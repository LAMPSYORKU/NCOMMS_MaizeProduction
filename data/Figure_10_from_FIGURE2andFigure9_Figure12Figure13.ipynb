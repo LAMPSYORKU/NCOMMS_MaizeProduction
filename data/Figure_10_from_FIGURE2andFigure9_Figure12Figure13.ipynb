{
 "cells": [
  {
   "cell_type": "markdown",
   "metadata": {},
   "source": [
    "# This program generate figure 10"
   ]
  },
  {
   "cell_type": "code",
   "execution_count": 1,
   "metadata": {},
   "outputs": [
    {
     "name": "stdout",
     "output_type": "stream",
     "text": [
      "Warning: ecCodes 2.21.0 or higher is recommended. You are running version 2.12.0\n"
     ]
    }
   ],
   "source": [
    "# Ignore warnings\n",
    "import sys\n",
    "import warnings\n",
    "if not sys.warnoptions:\n",
    "    warnings.simplefilter('ignore')\n",
    "\n",
    "#Process data    \n",
    "import numpy as np\n",
    "import xarray as xr\n",
    "\n",
    "#Display data \n",
    "import cartopy\n",
    "import cartopy.crs as ccrs\n",
    "from cartopy.mpl.geoaxes import GeoAxes\n",
    "from cartopy.vector_transform import vector_scalar_to_grid\n",
    "from matplotlib.axes import Axes\n",
    "import cartopy.feature as cfeature\n",
    "from cartopy import config\n",
    "from cartopy.mpl.ticker import LongitudeFormatter, LatitudeFormatter\n",
    "from mpl_toolkits.axes_grid1 import AxesGrid\n",
    "import matplotlib.image as image\n",
    "import matplotlib.pyplot as plt\n",
    "\n",
    "#Writing data files\n",
    "import pandas as pd"
   ]
  },
  {
   "cell_type": "markdown",
   "metadata": {},
   "source": [
    "# 1. Load data "
   ]
  },
  {
   "cell_type": "code",
   "execution_count": 2,
   "metadata": {},
   "outputs": [],
   "source": [
    "prod2000_60x60=np.load('/media/Data1/Climada/isimip3/originalcode/code/ipynb/prod2000_60x60.npy')\n",
    "prod2005_60x60=np.load('/media/Data1/Climada/isimip3/originalcode/code/ipynb/prod2005_60x60.npy')\n",
    "prod2010_60x60=np.load('/media/Data1/Climada/isimip3/originalcode/code/ipynb/prod2010_60x60.npy')\n",
    "\n",
    "irrigated_maize_prod2000_60x60=np.load('/media/Data1/Climada/isimip3/originalcode/code/ipynb/irrigated_maize_prod2000_60x60.npy')\n",
    "irrigated_maize_prod2005_60x60=np.load('/media/Data1/Climada/isimip3/originalcode/code/ipynb/irrigated_maize_prod2005_60x60.npy')\n",
    "irrigated_maize_prod2010_60x60=np.load('/media/Data1/Climada/isimip3/originalcode/code/ipynb/irrigated_maize_prod2010_60x60.npy')\n",
    "\n",
    "# convert nan to 0\n",
    "prod2000_60x60=np.nan_to_num(prod2000_60x60)\n",
    "prod2005_60x60=np.nan_to_num(prod2005_60x60)\n",
    "prod2010_60x60=np.nan_to_num(prod2010_60x60)\n",
    "irrigated_maize_prod2000_60x60[irrigated_maize_prod2000_60x60<0]=0\n",
    "irrigated_maize_prod2005_60x60[irrigated_maize_prod2005_60x60<0]=0\n",
    "irrigated_maize_prod2010_60x60[irrigated_maize_prod2010_60x60<0]=0\n",
    "#important: without this step, all nan will transfer to all\n",
    "irrigated_maize_prod2000_60x60=np.nan_to_num(irrigated_maize_prod2000_60x60)\n",
    "irrigated_maize_prod2005_60x60=np.nan_to_num(irrigated_maize_prod2005_60x60)\n",
    "irrigated_maize_prod2010_60x60=np.nan_to_num(irrigated_maize_prod2010_60x60)\n",
    "# calculate 3-year averages\n",
    "all_prod2000_60x60=prod2000_60x60+irrigated_maize_prod2000_60x60\n",
    "all_prod2005_60x60=prod2005_60x60+irrigated_maize_prod2005_60x60\n",
    "all_prod2010_60x60=prod2010_60x60+irrigated_maize_prod2010_60x60\n",
    "average_rainfed=(prod2000_60x60+prod2005_60x60+prod2010_60x60)/3\n",
    "average_irrigated=(irrigated_maize_prod2000_60x60+irrigated_maize_prod2005_60x60+irrigated_maize_prod2010_60x60)/3\n",
    "average_all=(all_prod2000_60x60+all_prod2005_60x60+all_prod2010_60x60)/3\n",
    "np.save('average_all.npy',average_all)\n",
    "np.save('average_rained.npy',average_rainfed)\n",
    "np.save('average_irrigated.npy',average_irrigated)"
   ]
  },
  {
   "cell_type": "code",
   "execution_count": 3,
   "metadata": {},
   "outputs": [
    {
     "data": {
      "text/plain": [
       "23791787.707595274"
      ]
     },
     "execution_count": 3,
     "metadata": {},
     "output_type": "execute_result"
    }
   ],
   "source": [
    "np.nansum(irrigated_maize_prod2000_60x60)"
   ]
  },
  {
   "cell_type": "code",
   "execution_count": 4,
   "metadata": {},
   "outputs": [
    {
     "data": {
      "text/plain": [
       "216812966.26389402"
      ]
     },
     "execution_count": 4,
     "metadata": {},
     "output_type": "execute_result"
    }
   ],
   "source": [
    "np.nansum(prod2000_60x60)"
   ]
  },
  {
   "cell_type": "code",
   "execution_count": 5,
   "metadata": {},
   "outputs": [
    {
     "data": {
      "text/plain": [
       "array([[   0.        ,    0.        ,    0.        , ...,    0.        ,\n",
       "           0.        ,    0.        ],\n",
       "       [   0.        ,    0.        ,    0.        , ...,    0.        ,\n",
       "           0.        ,    0.        ],\n",
       "       [   0.        ,    0.        ,    0.        , ...,    0.        ,\n",
       "           0.        ,    0.        ],\n",
       "       ...,\n",
       "       [2135.09997654,  533.46667035, 4976.30000496, ...,    0.        ,\n",
       "           0.        ,    0.        ],\n",
       "       [ 348.66666746,  388.69999933, 2113.93337949, ...,    0.        ,\n",
       "           0.        ,    0.        ],\n",
       "       [ 597.43334579, 1903.6666495 , 3809.73335393, ...,    0.        ,\n",
       "           0.        ,    0.        ]])"
      ]
     },
     "execution_count": 5,
     "metadata": {},
     "output_type": "execute_result"
    }
   ],
   "source": [
    "average_rainfed"
   ]
  },
  {
   "cell_type": "code",
   "execution_count": 6,
   "metadata": {},
   "outputs": [
    {
     "data": {
      "text/plain": [
       "array([[   0.        ,    0.        ,    0.        , ...,    0.        ,\n",
       "           0.        ,    0.        ],\n",
       "       [   0.        ,    0.        ,    0.        , ...,    0.        ,\n",
       "           0.        ,    0.        ],\n",
       "       [   0.        ,    0.        ,    0.        , ...,    0.        ,\n",
       "           0.        ,    0.        ],\n",
       "       ...,\n",
       "       [2990.00000191,  500.99999905, 1020.60000515, ...,    0.        ,\n",
       "           0.        ,    0.        ],\n",
       "       [  49.        ,   53.80000019, 1136.4999876 , ...,    0.        ,\n",
       "           0.        ,    0.        ],\n",
       "       [ 562.09999275,  715.99999809, 3291.7000103 , ...,    0.        ,\n",
       "           0.        ,    0.        ]])"
      ]
     },
     "execution_count": 6,
     "metadata": {},
     "output_type": "execute_result"
    }
   ],
   "source": [
    "irrigated_maize_prod2010_60x60"
   ]
  },
  {
   "cell_type": "code",
   "execution_count": 7,
   "metadata": {},
   "outputs": [
    {
     "data": {
      "image/png": "[encoded data removed]",
      "text/plain": [
       "<Figure size 432x288 with 1 Axes>"
      ]
     },
     "metadata": {
      "needs_background": "light"
     },
     "output_type": "display_data"
    }
   ],
   "source": [
    "plt.contour(np.flipud(average_all))\n",
    "average_all[average_all<0]=np.nan"
   ]
  },
  {
   "cell_type": "code",
   "execution_count": 8,
   "metadata": {},
   "outputs": [],
   "source": [
    "#plt.contour(np.flipud(areainsqmeter[:30,:]))"
   ]
  },
  {
   "cell_type": "code",
   "execution_count": 9,
   "metadata": {},
   "outputs": [
    {
     "data": {
      "text/plain": [
       "[0.0, 1383751.9262981415]"
      ]
     },
     "execution_count": 9,
     "metadata": {},
     "output_type": "execute_result"
    }
   ],
   "source": [
    "[np.nanmin(average_all), np.nanmax(average_all)]"
   ]
  },
  {
   "cell_type": "code",
   "execution_count": 10,
   "metadata": {},
   "outputs": [],
   "source": [
    "min_lon = -100 \n",
    "min_lat = 35\n",
    "max_lon = -70\n",
    "max_lat = 65"
   ]
  },
  {
   "cell_type": "code",
   "execution_count": 11,
   "metadata": {},
   "outputs": [],
   "source": [
    "\n",
    "fn1 = '/media/Data1/Climada/isimip3/nc4/GGCMI_Phase3_annual_Maize_ssp126_ensemble_mean.nc4'\n",
    "ds=xr.open_dataset(fn1)\n",
    "cropped_ds = ds.sel(lat=slice(max_lat,min_lat), lon=slice(min_lon,max_lon))\n",
    "\n",
    "#these data are change in % relative to average for the period of 1983 to 2013\n",
    "averages1983_2013 = cropped_ds.sel(years=slice(\"1983\", \"2013\")).mean(dim='years')+100\n",
    "#theoritically the average values for the reference periods are 100s at all grid points\n",
    "averages1996_2015 = cropped_ds.sel(years=slice(\"1995\", \"2014\")).mean(dim='years')+100\n",
    "averages2040_2069 = cropped_ds.sel(years=slice(\"2040\", \"2069\")).mean(dim='years')+100\n",
    "averages2070_2099 = cropped_ds.sel(years=slice(\"2070\", \"2099\")).mean(dim='years')+100\n",
    "#We convert the data as change relative to the period from 1996 to 2015 for consistent to our paper's reference\n",
    "averages2050s_ssp126=(averages2040_2069/averages1996_2015-1)*average_all\n",
    "averages2080s_ssp126=(averages2070_2099/averages1996_2015-1)*average_all"
   ]
  },
  {
   "cell_type": "code",
   "execution_count": 12,
   "metadata": {},
   "outputs": [],
   "source": [
    "fn1 = '/media/Data1/Climada/isimip3/nc4/GGCMI_Phase3_annual_Maize_ssp370_ensemble_mean.nc4'\n",
    "#ds=xr.open_dataset(fn1,decode_times=False)\n",
    "ds=xr.open_dataset(fn1)\n",
    "#select data in space\n",
    "cropped_ds = ds.sel(lat=slice(max_lat,min_lat), lon=slice(min_lon,max_lon))\n",
    "#select and  average data in time\n",
    "#these data are change in % relative to average for the period of 1983 to 2013\n",
    "averages1983_2013 = cropped_ds.sel(years=slice(\"1983\", \"2013\")).mean(dim='years')+100\n",
    "#theoritically the average values for the reference periods are 100s at all grid points\n",
    "averages1996_2015 = cropped_ds.sel(years=slice(\"1995\", \"2014\")).mean(dim='years')+100 #note data is 1995-2014\n",
    "averages2040_2069 = cropped_ds.sel(years=slice(\"2040\", \"2069\")).mean(dim='years')+100\n",
    "averages2070_2099 = cropped_ds.sel(years=slice(\"2070\", \"2099\")).mean(dim='years')+100\n",
    "averages2050s_ssp370=(averages2040_2069/averages1996_2015-1)*average_all\n",
    "averages2080s_ssp370=(averages2070_2099/averages1996_2015-1)*average_all"
   ]
  },
  {
   "cell_type": "code",
   "execution_count": 13,
   "metadata": {},
   "outputs": [],
   "source": [
    "fn1 = '/media/Data1/Climada/isimip3/nc4/GGCMI_Phase3_annual_Maize_ssp585_ensemble_mean.nc4'\n",
    "#ds=xr.open_dataset(fn1,decode_times=False)\n",
    "ds=xr.open_dataset(fn1)\n",
    "cropped_ds = ds.sel(lat=slice(max_lat,min_lat), lon=slice(min_lon,max_lon))\n",
    "#these data are change in % relative to average for the period of 1983 to 2013\n",
    "averages1983_2013 = cropped_ds.sel(years=slice(\"1983\", \"2013\")).mean(dim='years')+100\n",
    "#theoritically the average values for the reference periods are 100s at all grid points\n",
    "averages1996_2015 = cropped_ds.sel(years=slice(\"1995\", \"2014\")).mean(dim='years')+100\n",
    "averages2040_2069 = cropped_ds.sel(years=slice(\"2040\", \"2069\")).mean(dim='years')+100\n",
    "averages2070_2099 = cropped_ds.sel(years=slice(\"2070\", \"2099\")).mean(dim='years')+100\n",
    "averages2050s_ssp585=(averages2040_2069/averages1996_2015-1)*average_all\n",
    "averages2080s_ssp585=(averages2070_2099/averages1996_2015-1)*average_all"
   ]
  },
  {
   "cell_type": "code",
   "execution_count": 14,
   "metadata": {},
   "outputs": [
    {
     "data": {
      "text/html": [
       "<div><svg style=\"position: absolute; width: 0; height: 0; overflow: hidden\">\n",
       "<defs>\n",
       "<symbol id=\"icon-database\" viewBox=\"0 0 32 32\">\n",
       "<path d=\"M16 0c-8.837 0-16 2.239-16 5v4c0 2.761 7.163 5 16 5s16-2.239 16-5v-4c0-2.761-7.163-5-16-5z\"></path>\n",
       "<path d=\"M16 17c-8.837 0-16-2.239-16-5v6c0 2.761 7.163 5 16 5s16-2.239 16-5v-6c0 2.761-7.163 5-16 5z\"></path>\n",
       "<path d=\"M16 26c-8.837 0-16-2.239-16-5v6c0 2.761 7.163 5 16 5s16-2.239 16-5v-6c0 2.761-7.163 5-16 5z\"></path>\n",
       "</symbol>\n",
       "<symbol id=\"icon-file-text2\" viewBox=\"0 0 32 32\">\n",
       "<path d=\"M28.681 7.159c-0.694-0.947-1.662-2.053-2.724-3.116s-2.169-2.030-3.116-2.724c-1.612-1.182-2.393-1.319-2.841-1.319h-15.5c-1.378 0-2.5 1.121-2.5 2.5v27c0 1.378 1.122 2.5 2.5 2.5h23c1.378 0 2.5-1.122 2.5-2.5v-19.5c0-0.448-0.137-1.23-1.319-2.841zM24.543 5.457c0.959 0.959 1.712 1.825 2.268 2.543h-4.811v-4.811c0.718 0.556 1.584 1.309 2.543 2.268zM28 29.5c0 0.271-0.229 0.5-0.5 0.5h-23c-0.271 0-0.5-0.229-0.5-0.5v-27c0-0.271 0.229-0.5 0.5-0.5 0 0 15.499-0 15.5 0v7c0 0.552 0.448 1 1 1h7v19.5z\"></path>\n",
       "<path d=\"M23 26h-14c-0.552 0-1-0.448-1-1s0.448-1 1-1h14c0.552 0 1 0.448 1 1s-0.448 1-1 1z\"></path>\n",
       "<path d=\"M23 22h-14c-0.552 0-1-0.448-1-1s0.448-1 1-1h14c0.552 0 1 0.448 1 1s-0.448 1-1 1z\"></path>\n",
       "<path d=\"M23 18h-14c-0.552 0-1-0.448-1-1s0.448-1 1-1h14c0.552 0 1 0.448 1 1s-0.448 1-1 1z\"></path>\n",
       "</symbol>\n",
       "</defs>\n",
       "</svg>\n",
       "<style>/* CSS stylesheet for displaying xarray objects in jupyterlab.\n",
       " *\n",
       " */\n",
       "\n",
       ":root {\n",
       "  --xr-font-color0: var(--jp-content-font-color0, rgba(0, 0, 0, 1));\n",
       "  --xr-font-color2: var(--jp-content-font-color2, rgba(0, 0, 0, 0.54));\n",
       "  --xr-font-color3: var(--jp-content-font-color3, rgba(0, 0, 0, 0.38));\n",
       "  --xr-border-color: var(--jp-border-color2, #e0e0e0);\n",
       "  --xr-disabled-color: var(--jp-layout-color3, #bdbdbd);\n",
       "  --xr-background-color: var(--jp-layout-color0, white);\n",
       "  --xr-background-color-row-even: var(--jp-layout-color1, white);\n",
       "  --xr-background-color-row-odd: var(--jp-layout-color2, #eeeeee);\n",
       "}\n",
       "\n",
       "html[theme=dark],\n",
       "body[data-theme=dark],\n",
       "body.vscode-dark {\n",
       "  --xr-font-color0: rgba(255, 255, 255, 1);\n",
       "  --xr-font-color2: rgba(255, 255, 255, 0.54);\n",
       "  --xr-font-color3: rgba(255, 255, 255, 0.38);\n",
       "  --xr-border-color: #1F1F1F;\n",
       "  --xr-disabled-color: #515151;\n",
       "  --xr-background-color: #111111;\n",
       "  --xr-background-color-row-even: #111111;\n",
       "  --xr-background-color-row-odd: #313131;\n",
       "}\n",
       "\n",
       ".xr-wrap {\n",
       "  display: block !important;\n",
       "  min-width: 300px;\n",
       "  max-width: 700px;\n",
       "}\n",
       "\n",
       ".xr-text-repr-fallback {\n",
       "  /* fallback to plain text repr when CSS is not injected (untrusted notebook) */\n",
       "  display: none;\n",
       "}\n",
       "\n",
       ".xr-header {\n",
       "  padding-top: 6px;\n",
       "  padding-bottom: 6px;\n",
       "  margin-bottom: 4px;\n",
       "  border-bottom: solid 1px var(--xr-border-color);\n",
       "}\n",
       "\n",
       ".xr-header > div,\n",
       ".xr-header > ul {\n",
       "  display: inline;\n",
       "  margin-top: 0;\n",
       "  margin-bottom: 0;\n",
       "}\n",
       "\n",
       ".xr-obj-type,\n",
       ".xr-array-name {\n",
       "  margin-left: 2px;\n",
       "  margin-right: 10px;\n",
       "}\n",
       "\n",
       ".xr-obj-type {\n",
       "  color: var(--xr-font-color2);\n",
       "}\n",
       "\n",
       ".xr-sections {\n",
       "  padding-left: 0 !important;\n",
       "  display: grid;\n",
       "  grid-template-columns: 150px auto auto 1fr 20px 20px;\n",
       "}\n",
       "\n",
       ".xr-section-item {\n",
       "  display: contents;\n",
       "}\n",
       "\n",
       ".xr-section-item input {\n",
       "  display: none;\n",
       "}\n",
       "\n",
       ".xr-section-item input + label {\n",
       "  color: var(--xr-disabled-color);\n",
       "}\n",
       "\n",
       ".xr-section-item input:enabled + label {\n",
       "  cursor: pointer;\n",
       "  color: var(--xr-font-color2);\n",
       "}\n",
       "\n",
       ".xr-section-item input:enabled + label:hover {\n",
       "  color: var(--xr-font-color0);\n",
       "}\n",
       "\n",
       ".xr-section-summary {\n",
       "  grid-column: 1;\n",
       "  color: var(--xr-font-color2);\n",
       "  font-weight: 500;\n",
       "}\n",
       "\n",
       ".xr-section-summary > span {\n",
       "  display: inline-block;\n",
       "  padding-left: 0.5em;\n",
       "}\n",
       "\n",
       ".xr-section-summary-in:disabled + label {\n",
       "  color: var(--xr-font-color2);\n",
       "}\n",
       "\n",
       ".xr-section-summary-in + label:before {\n",
       "  display: inline-block;\n",
       "  content: '►';\n",
       "  font-size: 11px;\n",
       "  width: 15px;\n",
       "  text-align: center;\n",
       "}\n",
       "\n",
       ".xr-section-summary-in:disabled + label:before {\n",
       "  color: var(--xr-disabled-color);\n",
       "}\n",
       "\n",
       ".xr-section-summary-in:checked + label:before {\n",
       "  content: '▼';\n",
       "}\n",
       "\n",
       ".xr-section-summary-in:checked + label > span {\n",
       "  display: none;\n",
       "}\n",
       "\n",
       ".xr-section-summary,\n",
       ".xr-section-inline-details {\n",
       "  padding-top: 4px;\n",
       "  padding-bottom: 4px;\n",
       "}\n",
       "\n",
       ".xr-section-inline-details {\n",
       "  grid-column: 2 / -1;\n",
       "}\n",
       "\n",
       ".xr-section-details {\n",
       "  display: none;\n",
       "  grid-column: 1 / -1;\n",
       "  margin-bottom: 5px;\n",
       "}\n",
       "\n",
       ".xr-section-summary-in:checked ~ .xr-section-details {\n",
       "  display: contents;\n",
       "}\n",
       "\n",
       ".xr-array-wrap {\n",
       "  grid-column: 1 / -1;\n",
       "  display: grid;\n",
       "  grid-template-columns: 20px auto;\n",
       "}\n",
       "\n",
       ".xr-array-wrap > label {\n",
       "  grid-column: 1;\n",
       "  vertical-align: top;\n",
       "}\n",
       "\n",
       ".xr-preview {\n",
       "  color: var(--xr-font-color3);\n",
       "}\n",
       "\n",
       ".xr-array-preview,\n",
       ".xr-array-data {\n",
       "  padding: 0 5px !important;\n",
       "  grid-column: 2;\n",
       "}\n",
       "\n",
       ".xr-array-data,\n",
       ".xr-array-in:checked ~ .xr-array-preview {\n",
       "  display: none;\n",
       "}\n",
       "\n",
       ".xr-array-in:checked ~ .xr-array-data,\n",
       ".xr-array-preview {\n",
       "  display: inline-block;\n",
       "}\n",
       "\n",
       ".xr-dim-list {\n",
       "  display: inline-block !important;\n",
       "  list-style: none;\n",
       "  padding: 0 !important;\n",
       "  margin: 0;\n",
       "}\n",
       "\n",
       ".xr-dim-list li {\n",
       "  display: inline-block;\n",
       "  padding: 0;\n",
       "  margin: 0;\n",
       "}\n",
       "\n",
       ".xr-dim-list:before {\n",
       "  content: '(';\n",
       "}\n",
       "\n",
       ".xr-dim-list:after {\n",
       "  content: ')';\n",
       "}\n",
       "\n",
       ".xr-dim-list li:not(:last-child):after {\n",
       "  content: ',';\n",
       "  padding-right: 5px;\n",
       "}\n",
       "\n",
       ".xr-has-index {\n",
       "  font-weight: bold;\n",
       "}\n",
       "\n",
       ".xr-var-list,\n",
       ".xr-var-item {\n",
       "  display: contents;\n",
       "}\n",
       "\n",
       ".xr-var-item > div,\n",
       ".xr-var-item label,\n",
       ".xr-var-item > .xr-var-name span {\n",
       "  background-color: var(--xr-background-color-row-even);\n",
       "  margin-bottom: 0;\n",
       "}\n",
       "\n",
       ".xr-var-item > .xr-var-name:hover span {\n",
       "  padding-right: 5px;\n",
       "}\n",
       "\n",
       ".xr-var-list > li:nth-child(odd) > div,\n",
       ".xr-var-list > li:nth-child(odd) > label,\n",
       ".xr-var-list > li:nth-child(odd) > .xr-var-name span {\n",
       "  background-color: var(--xr-background-color-row-odd);\n",
       "}\n",
       "\n",
       ".xr-var-name {\n",
       "  grid-column: 1;\n",
       "}\n",
       "\n",
       ".xr-var-dims {\n",
       "  grid-column: 2;\n",
       "}\n",
       "\n",
       ".xr-var-dtype {\n",
       "  grid-column: 3;\n",
       "  text-align: right;\n",
       "  color: var(--xr-font-color2);\n",
       "}\n",
       "\n",
       ".xr-var-preview {\n",
       "  grid-column: 4;\n",
       "}\n",
       "\n",
       ".xr-var-name,\n",
       ".xr-var-dims,\n",
       ".xr-var-dtype,\n",
       ".xr-preview,\n",
       ".xr-attrs dt {\n",
       "  white-space: nowrap;\n",
       "  overflow: hidden;\n",
       "  text-overflow: ellipsis;\n",
       "  padding-right: 10px;\n",
       "}\n",
       "\n",
       ".xr-var-name:hover,\n",
       ".xr-var-dims:hover,\n",
       ".xr-var-dtype:hover,\n",
       ".xr-attrs dt:hover {\n",
       "  overflow: visible;\n",
       "  width: auto;\n",
       "  z-index: 1;\n",
       "}\n",
       "\n",
       ".xr-var-attrs,\n",
       ".xr-var-data {\n",
       "  display: none;\n",
       "  background-color: var(--xr-background-color) !important;\n",
       "  padding-bottom: 5px !important;\n",
       "}\n",
       "\n",
       ".xr-var-attrs-in:checked ~ .xr-var-attrs,\n",
       ".xr-var-data-in:checked ~ .xr-var-data {\n",
       "  display: block;\n",
       "}\n",
       "\n",
       ".xr-var-data > table {\n",
       "  float: right;\n",
       "}\n",
       "\n",
       ".xr-var-name span,\n",
       ".xr-var-data,\n",
       ".xr-attrs {\n",
       "  padding-left: 25px !important;\n",
       "}\n",
       "\n",
       ".xr-attrs,\n",
       ".xr-var-attrs,\n",
       ".xr-var-data {\n",
       "  grid-column: 1 / -1;\n",
       "}\n",
       "\n",
       "dl.xr-attrs {\n",
       "  padding: 0;\n",
       "  margin: 0;\n",
       "  display: grid;\n",
       "  grid-template-columns: 125px auto;\n",
       "}\n",
       "\n",
       ".xr-attrs dt,\n",
       ".xr-attrs dd {\n",
       "  padding: 0;\n",
       "  margin: 0;\n",
       "  float: left;\n",
       "  padding-right: 10px;\n",
       "  width: auto;\n",
       "}\n",
       "\n",
       ".xr-attrs dt {\n",
       "  font-weight: normal;\n",
       "  grid-column: 1;\n",
       "}\n",
       "\n",
       ".xr-attrs dt:hover span {\n",
       "  display: inline-block;\n",
       "  background: var(--xr-background-color);\n",
       "  padding-right: 10px;\n",
       "}\n",
       "\n",
       ".xr-attrs dd {\n",
       "  grid-column: 2;\n",
       "  white-space: pre-wrap;\n",
       "  word-break: break-all;\n",
       "}\n",
       "\n",
       ".xr-icon-database,\n",
       ".xr-icon-file-text2 {\n",
       "  display: inline-block;\n",
       "  vertical-align: middle;\n",
       "  width: 1em;\n",
       "  height: 1.5em !important;\n",
       "  stroke-width: 0;\n",
       "  stroke: currentColor;\n",
       "  fill: currentColor;\n",
       "}\n",
       "</style><pre class='xr-text-repr-fallback'>&lt;xarray.Dataset&gt;\n",
       "Dimensions:       (lon: 60, lat: 60)\n",
       "Coordinates:\n",
       "  * lon           (lon) float64 -99.75 -99.25 -98.75 ... -71.25 -70.75 -70.25\n",
       "  * lat           (lat) float64 64.75 64.25 63.75 63.25 ... 36.25 35.75 35.25\n",
       "Data variables:\n",
       "    yield change  (lat, lon) float64 nan nan nan nan nan ... nan nan nan nan nan</pre><div class='xr-wrap' style='display:none'><div class='xr-header'><div class='xr-obj-type'>xarray.Dataset</div></div><ul class='xr-sections'><li class='xr-section-item'><input id='section-074cf245-2f5a-46ea-835d-3c24b3eb4d49' class='xr-section-summary-in' type='checkbox' disabled ><label for='section-074cf245-2f5a-46ea-835d-3c24b3eb4d49' class='xr-section-summary'  title='Expand/collapse section'>Dimensions:</label><div class='xr-section-inline-details'><ul class='xr-dim-list'><li><span class='xr-has-index'>lon</span>: 60</li><li><span class='xr-has-index'>lat</span>: 60</li></ul></div><div class='xr-section-details'></div></li><li class='xr-section-item'><input id='section-76850303-1d0f-4d08-a5ae-95b533770d2e' class='xr-section-summary-in' type='checkbox'  checked><label for='section-76850303-1d0f-4d08-a5ae-95b533770d2e' class='xr-section-summary' >Coordinates: <span>(2)</span></label><div class='xr-section-inline-details'></div><div class='xr-section-details'><ul class='xr-var-list'><li class='xr-var-item'><div class='xr-var-name'><span class='xr-has-index'>lon</span></div><div class='xr-var-dims'>(lon)</div><div class='xr-var-dtype'>float64</div><div class='xr-var-preview xr-preview'>-99.75 -99.25 ... -70.75 -70.25</div><input id='attrs-bdfb0fc9-afb1-426f-b458-e4d5be9c191e' class='xr-var-attrs-in' type='checkbox' ><label for='attrs-bdfb0fc9-afb1-426f-b458-e4d5be9c191e' title='Show/Hide attributes'><svg class='icon xr-icon-file-text2'><use xlink:href='#icon-file-text2'></use></svg></label><input id='data-d0e59864-52c3-4422-987d-8d0578b012ec' class='xr-var-data-in' type='checkbox'><label for='data-d0e59864-52c3-4422-987d-8d0578b012ec' title='Show/Hide data repr'><svg class='icon xr-icon-database'><use xlink:href='#icon-database'></use></svg></label><div class='xr-var-attrs'><dl class='xr-attrs'><dt><span>units :</span></dt><dd>degrees_east</dd><dt><span>long_name :</span></dt><dd>lon</dd></dl></div><div class='xr-var-data'><pre>array([-99.75, -99.25, -98.75, -98.25, -97.75, -97.25, -96.75, -96.25, -95.75,\n",
       "       -95.25, -94.75, -94.25, -93.75, -93.25, -92.75, -92.25, -91.75, -91.25,\n",
       "       -90.75, -90.25, -89.75, -89.25, -88.75, -88.25, -87.75, -87.25, -86.75,\n",
       "       -86.25, -85.75, -85.25, -84.75, -84.25, -83.75, -83.25, -82.75, -82.25,\n",
       "       -81.75, -81.25, -80.75, -80.25, -79.75, -79.25, -78.75, -78.25, -77.75,\n",
       "       -77.25, -76.75, -76.25, -75.75, -75.25, -74.75, -74.25, -73.75, -73.25,\n",
       "       -72.75, -72.25, -71.75, -71.25, -70.75, -70.25])</pre></div></li><li class='xr-var-item'><div class='xr-var-name'><span class='xr-has-index'>lat</span></div><div class='xr-var-dims'>(lat)</div><div class='xr-var-dtype'>float64</div><div class='xr-var-preview xr-preview'>64.75 64.25 63.75 ... 35.75 35.25</div><input id='attrs-39cb21ce-3a06-4b4b-9b5b-068cb0ee3256' class='xr-var-attrs-in' type='checkbox' ><label for='attrs-39cb21ce-3a06-4b4b-9b5b-068cb0ee3256' title='Show/Hide attributes'><svg class='icon xr-icon-file-text2'><use xlink:href='#icon-file-text2'></use></svg></label><input id='data-8c3e6fc7-ac60-4633-b392-23aa5f812568' class='xr-var-data-in' type='checkbox'><label for='data-8c3e6fc7-ac60-4633-b392-23aa5f812568' title='Show/Hide data repr'><svg class='icon xr-icon-database'><use xlink:href='#icon-database'></use></svg></label><div class='xr-var-attrs'><dl class='xr-attrs'><dt><span>units :</span></dt><dd>degrees_north</dd><dt><span>long_name :</span></dt><dd>lat</dd></dl></div><div class='xr-var-data'><pre>array([64.75, 64.25, 63.75, 63.25, 62.75, 62.25, 61.75, 61.25, 60.75, 60.25,\n",
       "       59.75, 59.25, 58.75, 58.25, 57.75, 57.25, 56.75, 56.25, 55.75, 55.25,\n",
       "       54.75, 54.25, 53.75, 53.25, 52.75, 52.25, 51.75, 51.25, 50.75, 50.25,\n",
       "       49.75, 49.25, 48.75, 48.25, 47.75, 47.25, 46.75, 46.25, 45.75, 45.25,\n",
       "       44.75, 44.25, 43.75, 43.25, 42.75, 42.25, 41.75, 41.25, 40.75, 40.25,\n",
       "       39.75, 39.25, 38.75, 38.25, 37.75, 37.25, 36.75, 36.25, 35.75, 35.25])</pre></div></li></ul></div></li><li class='xr-section-item'><input id='section-c0d8120e-b564-4c88-90d0-9e3bdffa83ec' class='xr-section-summary-in' type='checkbox'  checked><label for='section-c0d8120e-b564-4c88-90d0-9e3bdffa83ec' class='xr-section-summary' >Data variables: <span>(1)</span></label><div class='xr-section-inline-details'></div><div class='xr-section-details'><ul class='xr-var-list'><li class='xr-var-item'><div class='xr-var-name'><span>yield change</span></div><div class='xr-var-dims'>(lat, lon)</div><div class='xr-var-dtype'>float64</div><div class='xr-var-preview xr-preview'>nan nan nan nan ... nan nan nan nan</div><input id='attrs-49a80dd3-a0bf-40ab-8157-9183636c569e' class='xr-var-attrs-in' type='checkbox' disabled><label for='attrs-49a80dd3-a0bf-40ab-8157-9183636c569e' title='Show/Hide attributes'><svg class='icon xr-icon-file-text2'><use xlink:href='#icon-file-text2'></use></svg></label><input id='data-2dba765a-ef7e-45d8-bf86-da7e83e0b839' class='xr-var-data-in' type='checkbox'><label for='data-2dba765a-ef7e-45d8-bf86-da7e83e0b839' title='Show/Hide data repr'><svg class='icon xr-icon-database'><use xlink:href='#icon-database'></use></svg></label><div class='xr-var-attrs'><dl class='xr-attrs'></dl></div><div class='xr-var-data'><pre>array([[           nan,            nan,            nan, ...,\n",
       "                   nan,            nan,            nan],\n",
       "       [           nan,            nan,            nan, ...,\n",
       "                   nan,            nan,            nan],\n",
       "       [           nan,            nan,            nan, ...,\n",
       "                   nan,            nan,            nan],\n",
       "       ...,\n",
       "       [           nan,            nan, -2269.21755937, ...,\n",
       "                   nan,            nan,            nan],\n",
       "       [           nan,  -168.20328906, -1025.91997868, ...,\n",
       "                   nan,            nan,            nan],\n",
       "       [           nan,            nan, -2096.27427741, ...,\n",
       "                   nan,            nan,            nan]])</pre></div></li></ul></div></li><li class='xr-section-item'><input id='section-a7781d2b-1471-49f8-9eba-ebf916fc0aa1' class='xr-section-summary-in' type='checkbox' disabled ><label for='section-a7781d2b-1471-49f8-9eba-ebf916fc0aa1' class='xr-section-summary'  title='Expand/collapse section'>Attributes: <span>(0)</span></label><div class='xr-section-inline-details'></div><div class='xr-section-details'><dl class='xr-attrs'></dl></div></li></ul></div></div>"
      ],
      "text/plain": [
       "<xarray.Dataset>\n",
       "Dimensions:       (lon: 60, lat: 60)\n",
       "Coordinates:\n",
       "  * lon           (lon) float64 -99.75 -99.25 -98.75 ... -71.25 -70.75 -70.25\n",
       "  * lat           (lat) float64 64.75 64.25 63.75 63.25 ... 36.25 35.75 35.25\n",
       "Data variables:\n",
       "    yield change  (lat, lon) float64 nan nan nan nan nan ... nan nan nan nan nan"
      ]
     },
     "execution_count": 14,
     "metadata": {},
     "output_type": "execute_result"
    }
   ],
   "source": [
    "averages2080s_ssp585"
   ]
  },
  {
   "cell_type": "code",
   "execution_count": 15,
   "metadata": {},
   "outputs": [
    {
     "data": {
      "text/plain": [
       "(60, 60)"
      ]
     },
     "execution_count": 15,
     "metadata": {},
     "output_type": "execute_result"
    }
   ],
   "source": [
    "average_all.shape"
   ]
  },
  {
   "cell_type": "code",
   "execution_count": 16,
   "metadata": {},
   "outputs": [
    {
     "data": {
      "text/plain": [
       "[<xarray.Dataset>\n",
       " Dimensions:       ()\n",
       " Data variables:\n",
       "     yield change  float64 99.48,\n",
       " <xarray.Dataset>\n",
       " Dimensions:       ()\n",
       " Data variables:\n",
       "     yield change  float64 100.1]"
      ]
     },
     "execution_count": 16,
     "metadata": {},
     "output_type": "execute_result"
    }
   ],
   "source": [
    "#check if the original reference is 1983-2013\n",
    "[averages1983_2013.squeeze().min(),averages1983_2013.squeeze().max()]"
   ]
  },
  {
   "cell_type": "code",
   "execution_count": 17,
   "metadata": {},
   "outputs": [],
   "source": [
    "fn26='/media/Data1/Climada/isimip3/nc4/Jaegermeyr_etal_2021_GGCMI-CMIP6_ensemble_yield_change_map_rcp26_Maize.nc4'\n",
    "fn85='/media/Data1/Climada/isimip3/nc4/Jaegermeyr_etal_2021_GGCMI-CMIP6_ensemble_yield_change_map_rcp85_Maize.nc4'"
   ]
  },
  {
   "cell_type": "code",
   "execution_count": 18,
   "metadata": {},
   "outputs": [],
   "source": [
    "ds=xr.open_dataset(fn26)\n",
    "#select data in space\n",
    "cropped_ds = ds.sel(lat=slice(max_lat,min_lat), lon=slice(min_lon,max_lon))"
   ]
  },
  {
   "cell_type": "code",
   "execution_count": 19,
   "metadata": {},
   "outputs": [
    {
     "data": {
      "text/html": [
       "<div><svg style=\"position: absolute; width: 0; height: 0; overflow: hidden\">\n",
       "<defs>\n",
       "<symbol id=\"icon-database\" viewBox=\"0 0 32 32\">\n",
       "<path d=\"M16 0c-8.837 0-16 2.239-16 5v4c0 2.761 7.163 5 16 5s16-2.239 16-5v-4c0-2.761-7.163-5-16-5z\"></path>\n",
       "<path d=\"M16 17c-8.837 0-16-2.239-16-5v6c0 2.761 7.163 5 16 5s16-2.239 16-5v-6c0 2.761-7.163 5-16 5z\"></path>\n",
       "<path d=\"M16 26c-8.837 0-16-2.239-16-5v6c0 2.761 7.163 5 16 5s16-2.239 16-5v-6c0 2.761-7.163 5-16 5z\"></path>\n",
       "</symbol>\n",
       "<symbol id=\"icon-file-text2\" viewBox=\"0 0 32 32\">\n",
       "<path d=\"M28.681 7.159c-0.694-0.947-1.662-2.053-2.724-3.116s-2.169-2.030-3.116-2.724c-1.612-1.182-2.393-1.319-2.841-1.319h-15.5c-1.378 0-2.5 1.121-2.5 2.5v27c0 1.378 1.122 2.5 2.5 2.5h23c1.378 0 2.5-1.122 2.5-2.5v-19.5c0-0.448-0.137-1.23-1.319-2.841zM24.543 5.457c0.959 0.959 1.712 1.825 2.268 2.543h-4.811v-4.811c0.718 0.556 1.584 1.309 2.543 2.268zM28 29.5c0 0.271-0.229 0.5-0.5 0.5h-23c-0.271 0-0.5-0.229-0.5-0.5v-27c0-0.271 0.229-0.5 0.5-0.5 0 0 15.499-0 15.5 0v7c0 0.552 0.448 1 1 1h7v19.5z\"></path>\n",
       "<path d=\"M23 26h-14c-0.552 0-1-0.448-1-1s0.448-1 1-1h14c0.552 0 1 0.448 1 1s-0.448 1-1 1z\"></path>\n",
       "<path d=\"M23 22h-14c-0.552 0-1-0.448-1-1s0.448-1 1-1h14c0.552 0 1 0.448 1 1s-0.448 1-1 1z\"></path>\n",
       "<path d=\"M23 18h-14c-0.552 0-1-0.448-1-1s0.448-1 1-1h14c0.552 0 1 0.448 1 1s-0.448 1-1 1z\"></path>\n",
       "</symbol>\n",
       "</defs>\n",
       "</svg>\n",
       "<style>/* CSS stylesheet for displaying xarray objects in jupyterlab.\n",
       " *\n",
       " */\n",
       "\n",
       ":root {\n",
       "  --xr-font-color0: var(--jp-content-font-color0, rgba(0, 0, 0, 1));\n",
       "  --xr-font-color2: var(--jp-content-font-color2, rgba(0, 0, 0, 0.54));\n",
       "  --xr-font-color3: var(--jp-content-font-color3, rgba(0, 0, 0, 0.38));\n",
       "  --xr-border-color: var(--jp-border-color2, #e0e0e0);\n",
       "  --xr-disabled-color: var(--jp-layout-color3, #bdbdbd);\n",
       "  --xr-background-color: var(--jp-layout-color0, white);\n",
       "  --xr-background-color-row-even: var(--jp-layout-color1, white);\n",
       "  --xr-background-color-row-odd: var(--jp-layout-color2, #eeeeee);\n",
       "}\n",
       "\n",
       "html[theme=dark],\n",
       "body[data-theme=dark],\n",
       "body.vscode-dark {\n",
       "  --xr-font-color0: rgba(255, 255, 255, 1);\n",
       "  --xr-font-color2: rgba(255, 255, 255, 0.54);\n",
       "  --xr-font-color3: rgba(255, 255, 255, 0.38);\n",
       "  --xr-border-color: #1F1F1F;\n",
       "  --xr-disabled-color: #515151;\n",
       "  --xr-background-color: #111111;\n",
       "  --xr-background-color-row-even: #111111;\n",
       "  --xr-background-color-row-odd: #313131;\n",
       "}\n",
       "\n",
       ".xr-wrap {\n",
       "  display: block !important;\n",
       "  min-width: 300px;\n",
       "  max-width: 700px;\n",
       "}\n",
       "\n",
       ".xr-text-repr-fallback {\n",
       "  /* fallback to plain text repr when CSS is not injected (untrusted notebook) */\n",
       "  display: none;\n",
       "}\n",
       "\n",
       ".xr-header {\n",
       "  padding-top: 6px;\n",
       "  padding-bottom: 6px;\n",
       "  margin-bottom: 4px;\n",
       "  border-bottom: solid 1px var(--xr-border-color);\n",
       "}\n",
       "\n",
       ".xr-header > div,\n",
       ".xr-header > ul {\n",
       "  display: inline;\n",
       "  margin-top: 0;\n",
       "  margin-bottom: 0;\n",
       "}\n",
       "\n",
       ".xr-obj-type,\n",
       ".xr-array-name {\n",
       "  margin-left: 2px;\n",
       "  margin-right: 10px;\n",
       "}\n",
       "\n",
       ".xr-obj-type {\n",
       "  color: var(--xr-font-color2);\n",
       "}\n",
       "\n",
       ".xr-sections {\n",
       "  padding-left: 0 !important;\n",
       "  display: grid;\n",
       "  grid-template-columns: 150px auto auto 1fr 20px 20px;\n",
       "}\n",
       "\n",
       ".xr-section-item {\n",
       "  display: contents;\n",
       "}\n",
       "\n",
       ".xr-section-item input {\n",
       "  display: none;\n",
       "}\n",
       "\n",
       ".xr-section-item input + label {\n",
       "  color: var(--xr-disabled-color);\n",
       "}\n",
       "\n",
       ".xr-section-item input:enabled + label {\n",
       "  cursor: pointer;\n",
       "  color: var(--xr-font-color2);\n",
       "}\n",
       "\n",
       ".xr-section-item input:enabled + label:hover {\n",
       "  color: var(--xr-font-color0);\n",
       "}\n",
       "\n",
       ".xr-section-summary {\n",
       "  grid-column: 1;\n",
       "  color: var(--xr-font-color2);\n",
       "  font-weight: 500;\n",
       "}\n",
       "\n",
       ".xr-section-summary > span {\n",
       "  display: inline-block;\n",
       "  padding-left: 0.5em;\n",
       "}\n",
       "\n",
       ".xr-section-summary-in:disabled + label {\n",
       "  color: var(--xr-font-color2);\n",
       "}\n",
       "\n",
       ".xr-section-summary-in + label:before {\n",
       "  display: inline-block;\n",
       "  content: '►';\n",
       "  font-size: 11px;\n",
       "  width: 15px;\n",
       "  text-align: center;\n",
       "}\n",
       "\n",
       ".xr-section-summary-in:disabled + label:before {\n",
       "  color: var(--xr-disabled-color);\n",
       "}\n",
       "\n",
       ".xr-section-summary-in:checked + label:before {\n",
       "  content: '▼';\n",
       "}\n",
       "\n",
       ".xr-section-summary-in:checked + label > span {\n",
       "  display: none;\n",
       "}\n",
       "\n",
       ".xr-section-summary,\n",
       ".xr-section-inline-details {\n",
       "  padding-top: 4px;\n",
       "  padding-bottom: 4px;\n",
       "}\n",
       "\n",
       ".xr-section-inline-details {\n",
       "  grid-column: 2 / -1;\n",
       "}\n",
       "\n",
       ".xr-section-details {\n",
       "  display: none;\n",
       "  grid-column: 1 / -1;\n",
       "  margin-bottom: 5px;\n",
       "}\n",
       "\n",
       ".xr-section-summary-in:checked ~ .xr-section-details {\n",
       "  display: contents;\n",
       "}\n",
       "\n",
       ".xr-array-wrap {\n",
       "  grid-column: 1 / -1;\n",
       "  display: grid;\n",
       "  grid-template-columns: 20px auto;\n",
       "}\n",
       "\n",
       ".xr-array-wrap > label {\n",
       "  grid-column: 1;\n",
       "  vertical-align: top;\n",
       "}\n",
       "\n",
       ".xr-preview {\n",
       "  color: var(--xr-font-color3);\n",
       "}\n",
       "\n",
       ".xr-array-preview,\n",
       ".xr-array-data {\n",
       "  padding: 0 5px !important;\n",
       "  grid-column: 2;\n",
       "}\n",
       "\n",
       ".xr-array-data,\n",
       ".xr-array-in:checked ~ .xr-array-preview {\n",
       "  display: none;\n",
       "}\n",
       "\n",
       ".xr-array-in:checked ~ .xr-array-data,\n",
       ".xr-array-preview {\n",
       "  display: inline-block;\n",
       "}\n",
       "\n",
       ".xr-dim-list {\n",
       "  display: inline-block !important;\n",
       "  list-style: none;\n",
       "  padding: 0 !important;\n",
       "  margin: 0;\n",
       "}\n",
       "\n",
       ".xr-dim-list li {\n",
       "  display: inline-block;\n",
       "  padding: 0;\n",
       "  margin: 0;\n",
       "}\n",
       "\n",
       ".xr-dim-list:before {\n",
       "  content: '(';\n",
       "}\n",
       "\n",
       ".xr-dim-list:after {\n",
       "  content: ')';\n",
       "}\n",
       "\n",
       ".xr-dim-list li:not(:last-child):after {\n",
       "  content: ',';\n",
       "  padding-right: 5px;\n",
       "}\n",
       "\n",
       ".xr-has-index {\n",
       "  font-weight: bold;\n",
       "}\n",
       "\n",
       ".xr-var-list,\n",
       ".xr-var-item {\n",
       "  display: contents;\n",
       "}\n",
       "\n",
       ".xr-var-item > div,\n",
       ".xr-var-item label,\n",
       ".xr-var-item > .xr-var-name span {\n",
       "  background-color: var(--xr-background-color-row-even);\n",
       "  margin-bottom: 0;\n",
       "}\n",
       "\n",
       ".xr-var-item > .xr-var-name:hover span {\n",
       "  padding-right: 5px;\n",
       "}\n",
       "\n",
       ".xr-var-list > li:nth-child(odd) > div,\n",
       ".xr-var-list > li:nth-child(odd) > label,\n",
       ".xr-var-list > li:nth-child(odd) > .xr-var-name span {\n",
       "  background-color: var(--xr-background-color-row-odd);\n",
       "}\n",
       "\n",
       ".xr-var-name {\n",
       "  grid-column: 1;\n",
       "}\n",
       "\n",
       ".xr-var-dims {\n",
       "  grid-column: 2;\n",
       "}\n",
       "\n",
       ".xr-var-dtype {\n",
       "  grid-column: 3;\n",
       "  text-align: right;\n",
       "  color: var(--xr-font-color2);\n",
       "}\n",
       "\n",
       ".xr-var-preview {\n",
       "  grid-column: 4;\n",
       "}\n",
       "\n",
       ".xr-var-name,\n",
       ".xr-var-dims,\n",
       ".xr-var-dtype,\n",
       ".xr-preview,\n",
       ".xr-attrs dt {\n",
       "  white-space: nowrap;\n",
       "  overflow: hidden;\n",
       "  text-overflow: ellipsis;\n",
       "  padding-right: 10px;\n",
       "}\n",
       "\n",
       ".xr-var-name:hover,\n",
       ".xr-var-dims:hover,\n",
       ".xr-var-dtype:hover,\n",
       ".xr-attrs dt:hover {\n",
       "  overflow: visible;\n",
       "  width: auto;\n",
       "  z-index: 1;\n",
       "}\n",
       "\n",
       ".xr-var-attrs,\n",
       ".xr-var-data {\n",
       "  display: none;\n",
       "  background-color: var(--xr-background-color) !important;\n",
       "  padding-bottom: 5px !important;\n",
       "}\n",
       "\n",
       ".xr-var-attrs-in:checked ~ .xr-var-attrs,\n",
       ".xr-var-data-in:checked ~ .xr-var-data {\n",
       "  display: block;\n",
       "}\n",
       "\n",
       ".xr-var-data > table {\n",
       "  float: right;\n",
       "}\n",
       "\n",
       ".xr-var-name span,\n",
       ".xr-var-data,\n",
       ".xr-attrs {\n",
       "  padding-left: 25px !important;\n",
       "}\n",
       "\n",
       ".xr-attrs,\n",
       ".xr-var-attrs,\n",
       ".xr-var-data {\n",
       "  grid-column: 1 / -1;\n",
       "}\n",
       "\n",
       "dl.xr-attrs {\n",
       "  padding: 0;\n",
       "  margin: 0;\n",
       "  display: grid;\n",
       "  grid-template-columns: 125px auto;\n",
       "}\n",
       "\n",
       ".xr-attrs dt,\n",
       ".xr-attrs dd {\n",
       "  padding: 0;\n",
       "  margin: 0;\n",
       "  float: left;\n",
       "  padding-right: 10px;\n",
       "  width: auto;\n",
       "}\n",
       "\n",
       ".xr-attrs dt {\n",
       "  font-weight: normal;\n",
       "  grid-column: 1;\n",
       "}\n",
       "\n",
       ".xr-attrs dt:hover span {\n",
       "  display: inline-block;\n",
       "  background: var(--xr-background-color);\n",
       "  padding-right: 10px;\n",
       "}\n",
       "\n",
       ".xr-attrs dd {\n",
       "  grid-column: 2;\n",
       "  white-space: pre-wrap;\n",
       "  word-break: break-all;\n",
       "}\n",
       "\n",
       ".xr-icon-database,\n",
       ".xr-icon-file-text2 {\n",
       "  display: inline-block;\n",
       "  vertical-align: middle;\n",
       "  width: 1em;\n",
       "  height: 1.5em !important;\n",
       "  stroke-width: 0;\n",
       "  stroke: currentColor;\n",
       "  fill: currentColor;\n",
       "}\n",
       "</style><pre class='xr-text-repr-fallback'>&lt;xarray.Dataset&gt;\n",
       "Dimensions:          (lon: 60, lat: 60)\n",
       "Coordinates:\n",
       "  * lon              (lon) float64 -99.75 -99.25 -98.75 ... -71.25 -70.75 -70.25\n",
       "  * lat              (lat) float64 64.75 64.25 63.75 63.25 ... 36.25 35.75 35.25\n",
       "Data variables:\n",
       "    Yield change     (lat, lon) float32 nan nan nan nan nan ... nan nan nan nan\n",
       "    Model agreement  (lat, lon) float32 nan nan nan nan nan ... nan nan nan nan</pre><div class='xr-wrap' style='display:none'><div class='xr-header'><div class='xr-obj-type'>xarray.Dataset</div></div><ul class='xr-sections'><li class='xr-section-item'><input id='section-3a7ee93d-0d95-40f4-8588-9466bc7d772b' class='xr-section-summary-in' type='checkbox' disabled ><label for='section-3a7ee93d-0d95-40f4-8588-9466bc7d772b' class='xr-section-summary'  title='Expand/collapse section'>Dimensions:</label><div class='xr-section-inline-details'><ul class='xr-dim-list'><li><span class='xr-has-index'>lon</span>: 60</li><li><span class='xr-has-index'>lat</span>: 60</li></ul></div><div class='xr-section-details'></div></li><li class='xr-section-item'><input id='section-46eb1fcc-962e-4c2a-bc3c-d15f85bbd80f' class='xr-section-summary-in' type='checkbox'  checked><label for='section-46eb1fcc-962e-4c2a-bc3c-d15f85bbd80f' class='xr-section-summary' >Coordinates: <span>(2)</span></label><div class='xr-section-inline-details'></div><div class='xr-section-details'><ul class='xr-var-list'><li class='xr-var-item'><div class='xr-var-name'><span class='xr-has-index'>lon</span></div><div class='xr-var-dims'>(lon)</div><div class='xr-var-dtype'>float64</div><div class='xr-var-preview xr-preview'>-99.75 -99.25 ... -70.75 -70.25</div><input id='attrs-592875e0-67eb-48c6-8b3f-6c3f66f52729' class='xr-var-attrs-in' type='checkbox' ><label for='attrs-592875e0-67eb-48c6-8b3f-6c3f66f52729' title='Show/Hide attributes'><svg class='icon xr-icon-file-text2'><use xlink:href='#icon-file-text2'></use></svg></label><input id='data-3f29587a-a273-4b92-8b02-12ec693a5eb0' class='xr-var-data-in' type='checkbox'><label for='data-3f29587a-a273-4b92-8b02-12ec693a5eb0' title='Show/Hide data repr'><svg class='icon xr-icon-database'><use xlink:href='#icon-database'></use></svg></label><div class='xr-var-attrs'><dl class='xr-attrs'><dt><span>units :</span></dt><dd>degrees_east</dd><dt><span>long_name :</span></dt><dd>lon</dd></dl></div><div class='xr-var-data'><pre>array([-99.75, -99.25, -98.75, -98.25, -97.75, -97.25, -96.75, -96.25, -95.75,\n",
       "       -95.25, -94.75, -94.25, -93.75, -93.25, -92.75, -92.25, -91.75, -91.25,\n",
       "       -90.75, -90.25, -89.75, -89.25, -88.75, -88.25, -87.75, -87.25, -86.75,\n",
       "       -86.25, -85.75, -85.25, -84.75, -84.25, -83.75, -83.25, -82.75, -82.25,\n",
       "       -81.75, -81.25, -80.75, -80.25, -79.75, -79.25, -78.75, -78.25, -77.75,\n",
       "       -77.25, -76.75, -76.25, -75.75, -75.25, -74.75, -74.25, -73.75, -73.25,\n",
       "       -72.75, -72.25, -71.75, -71.25, -70.75, -70.25])</pre></div></li><li class='xr-var-item'><div class='xr-var-name'><span class='xr-has-index'>lat</span></div><div class='xr-var-dims'>(lat)</div><div class='xr-var-dtype'>float64</div><div class='xr-var-preview xr-preview'>64.75 64.25 63.75 ... 35.75 35.25</div><input id='attrs-7c622ca6-128e-431f-bfc4-8a63a4f919fa' class='xr-var-attrs-in' type='checkbox' ><label for='attrs-7c622ca6-128e-431f-bfc4-8a63a4f919fa' title='Show/Hide attributes'><svg class='icon xr-icon-file-text2'><use xlink:href='#icon-file-text2'></use></svg></label><input id='data-ec7daa90-8ad1-4fd2-b77a-6a307d3c046f' class='xr-var-data-in' type='checkbox'><label for='data-ec7daa90-8ad1-4fd2-b77a-6a307d3c046f' title='Show/Hide data repr'><svg class='icon xr-icon-database'><use xlink:href='#icon-database'></use></svg></label><div class='xr-var-attrs'><dl class='xr-attrs'><dt><span>units :</span></dt><dd>degrees_north</dd><dt><span>long_name :</span></dt><dd>lat</dd></dl></div><div class='xr-var-data'><pre>array([64.75, 64.25, 63.75, 63.25, 62.75, 62.25, 61.75, 61.25, 60.75, 60.25,\n",
       "       59.75, 59.25, 58.75, 58.25, 57.75, 57.25, 56.75, 56.25, 55.75, 55.25,\n",
       "       54.75, 54.25, 53.75, 53.25, 52.75, 52.25, 51.75, 51.25, 50.75, 50.25,\n",
       "       49.75, 49.25, 48.75, 48.25, 47.75, 47.25, 46.75, 46.25, 45.75, 45.25,\n",
       "       44.75, 44.25, 43.75, 43.25, 42.75, 42.25, 41.75, 41.25, 40.75, 40.25,\n",
       "       39.75, 39.25, 38.75, 38.25, 37.75, 37.25, 36.75, 36.25, 35.75, 35.25])</pre></div></li></ul></div></li><li class='xr-section-item'><input id='section-20f5e7e1-0cf6-413a-9b80-6400bb51c1fd' class='xr-section-summary-in' type='checkbox'  checked><label for='section-20f5e7e1-0cf6-413a-9b80-6400bb51c1fd' class='xr-section-summary' >Data variables: <span>(2)</span></label><div class='xr-section-inline-details'></div><div class='xr-section-details'><ul class='xr-var-list'><li class='xr-var-item'><div class='xr-var-name'><span>Yield change</span></div><div class='xr-var-dims'>(lat, lon)</div><div class='xr-var-dtype'>float32</div><div class='xr-var-preview xr-preview'>...</div><input id='attrs-41ab91ce-53a4-4ca9-b92a-f832cd31a9ad' class='xr-var-attrs-in' type='checkbox' ><label for='attrs-41ab91ce-53a4-4ca9-b92a-f832cd31a9ad' title='Show/Hide attributes'><svg class='icon xr-icon-file-text2'><use xlink:href='#icon-file-text2'></use></svg></label><input id='data-08e05bdd-6aaa-4a43-89c2-a130c29e783b' class='xr-var-data-in' type='checkbox'><label for='data-08e05bdd-6aaa-4a43-89c2-a130c29e783b' title='Show/Hide data repr'><svg class='icon xr-icon-database'><use xlink:href='#icon-database'></use></svg></label><div class='xr-var-attrs'><dl class='xr-attrs'><dt><span>units :</span></dt><dd>%</dd><dt><span>long_name :</span></dt><dd>GGCMI Phase 3 ensemble mean crop yield change 1983-2013 to 2069-2099  rcp26</dd></dl></div><div class='xr-var-data'><pre>array([[      nan,       nan,       nan, ...,       nan,       nan,       nan],\n",
       "       [      nan,       nan,       nan, ...,       nan,       nan,       nan],\n",
       "       [      nan,       nan,       nan, ...,       nan,       nan,       nan],\n",
       "       ...,\n",
       "       [      nan,       nan, -9.850962, ...,       nan,       nan,       nan],\n",
       "       [      nan, -8.656116, -7.23414 , ...,       nan,       nan,       nan],\n",
       "       [      nan,       nan, -8.661031, ...,       nan,       nan,       nan]],\n",
       "      dtype=float32)</pre></div></li><li class='xr-var-item'><div class='xr-var-name'><span>Model agreement</span></div><div class='xr-var-dims'>(lat, lon)</div><div class='xr-var-dtype'>float32</div><div class='xr-var-preview xr-preview'>...</div><input id='attrs-94885ae8-6e64-4c29-8a4d-31af44a08d18' class='xr-var-attrs-in' type='checkbox' ><label for='attrs-94885ae8-6e64-4c29-8a4d-31af44a08d18' title='Show/Hide attributes'><svg class='icon xr-icon-file-text2'><use xlink:href='#icon-file-text2'></use></svg></label><input id='data-fd739cc8-18b7-4461-9ba5-a12bbf64d83b' class='xr-var-data-in' type='checkbox'><label for='data-fd739cc8-18b7-4461-9ba5-a12bbf64d83b' title='Show/Hide data repr'><svg class='icon xr-icon-database'><use xlink:href='#icon-database'></use></svg></label><div class='xr-var-attrs'><dl class='xr-attrs'><dt><span>units :</span></dt><dd>binary mask</dd><dt><span>long_name :</span></dt><dd>Figure hatching, indicating areas where less than 70% of the climate-crop model combinations agree on the sign of impact</dd></dl></div><div class='xr-var-data'><pre>array([[nan, nan, nan, ..., nan, nan, nan],\n",
       "       [nan, nan, nan, ..., nan, nan, nan],\n",
       "       [nan, nan, nan, ..., nan, nan, nan],\n",
       "       ...,\n",
       "       [nan, nan, nan, ..., nan, nan, nan],\n",
       "       [nan, nan, nan, ..., nan, nan, nan],\n",
       "       [nan, nan, nan, ..., nan, nan, nan]], dtype=float32)</pre></div></li></ul></div></li><li class='xr-section-item'><input id='section-900cb6b0-229a-4529-afad-b4271e54ad17' class='xr-section-summary-in' type='checkbox' disabled ><label for='section-900cb6b0-229a-4529-afad-b4271e54ad17' class='xr-section-summary'  title='Expand/collapse section'>Attributes: <span>(0)</span></label><div class='xr-section-inline-details'></div><div class='xr-section-details'><dl class='xr-attrs'></dl></div></li></ul></div></div>"
      ],
      "text/plain": [
       "<xarray.Dataset>\n",
       "Dimensions:          (lon: 60, lat: 60)\n",
       "Coordinates:\n",
       "  * lon              (lon) float64 -99.75 -99.25 -98.75 ... -71.25 -70.75 -70.25\n",
       "  * lat              (lat) float64 64.75 64.25 63.75 63.25 ... 36.25 35.75 35.25\n",
       "Data variables:\n",
       "    Yield change     (lat, lon) float32 ...\n",
       "    Model agreement  (lat, lon) float32 ..."
      ]
     },
     "execution_count": 19,
     "metadata": {},
     "output_type": "execute_result"
    }
   ],
   "source": [
    "cropped_ds"
   ]
  },
  {
   "cell_type": "code",
   "execution_count": 20,
   "metadata": {},
   "outputs": [],
   "source": [
    "ds=xr.open_dataset(fn85)\n",
    "#select data in space\n",
    "cropped_ds = ds.sel(lat=slice(max_lat,min_lat), lon=slice(min_lon,max_lon))"
   ]
  },
  {
   "cell_type": "markdown",
   "metadata": {},
   "source": [
    "## 5. Uncertainty analysis"
   ]
  },
  {
   "cell_type": "code",
   "execution_count": 21,
   "metadata": {},
   "outputs": [],
   "source": [
    "#these txt file are in the data folder in github site\n",
    "fns126=['/media/Data1/Climada/isimip3/GGCMI_Phase3_annual_ssp126_gfdl-esm4_files.txt',\n",
    "'/media/Data1/Climada/isimip3/GGCMI_Phase3_annual_ssp126_ipsl-cm6a-lr_files.txt',\n",
    "'/media/Data1/Climada/isimip3/GGCMI_Phase3_annual_ssp126_mpi-esm1-2-hr_files.txt',\n",
    "'/media/Data1/Climada/isimip3/GGCMI_Phase3_annual_ssp126_mri-esm2-0_files.txt',\n",
    "'/media/Data1/Climada/isimip3/GGCMI_Phase3_annual_ssp126_ukesm1-0-ll_files.txt']\n",
    "fns585=['/media/Data1/Climada/isimip3/GGCMI_Phase3_annual_ssp585_gfdl-esm4_files.txt',\n",
    "'/media/Data1/Climada/isimip3/GGCMI_Phase3_annual_ssp585_ipsl-cm6a-lr_files.txt',\n",
    "'/media/Data1/Climada/isimip3/GGCMI_Phase3_annual_ssp585_mpi-esm1-2-hr_files.txt',\n",
    "'/media/Data1/Climada/isimip3/GGCMI_Phase3_annual_ssp585_mri-esm2-0_files.txt',\n",
    "'/media/Data1/Climada/isimip3/GGCMI_Phase3_annual_ssp585_ukesm1-0-ll_files.txt']"
   ]
  },
  {
   "cell_type": "code",
   "execution_count": 22,
   "metadata": {},
   "outputs": [
    {
     "data": {
      "text/plain": [
       "['/media/Data1/Climada/isimip3/GGCMI_Phase3_annual_ssp126_gfdl-esm4_files.txt',\n",
       " '/media/Data1/Climada/isimip3/GGCMI_Phase3_annual_ssp126_ipsl-cm6a-lr_files.txt',\n",
       " '/media/Data1/Climada/isimip3/GGCMI_Phase3_annual_ssp126_mpi-esm1-2-hr_files.txt',\n",
       " '/media/Data1/Climada/isimip3/GGCMI_Phase3_annual_ssp126_mri-esm2-0_files.txt',\n",
       " '/media/Data1/Climada/isimip3/GGCMI_Phase3_annual_ssp126_ukesm1-0-ll_files.txt']"
      ]
     },
     "execution_count": 22,
     "metadata": {},
     "output_type": "execute_result"
    }
   ],
   "source": [
    "fns126"
   ]
  },
  {
   "cell_type": "code",
   "execution_count": 23,
   "metadata": {},
   "outputs": [
    {
     "data": {
      "text/plain": [
       "['/media/Data1/Climada/isimip3/GGCMI_Phase3_annual_ssp585_gfdl-esm4_files.txt',\n",
       " '/media/Data1/Climada/isimip3/GGCMI_Phase3_annual_ssp585_ipsl-cm6a-lr_files.txt',\n",
       " '/media/Data1/Climada/isimip3/GGCMI_Phase3_annual_ssp585_mpi-esm1-2-hr_files.txt',\n",
       " '/media/Data1/Climada/isimip3/GGCMI_Phase3_annual_ssp585_mri-esm2-0_files.txt',\n",
       " '/media/Data1/Climada/isimip3/GGCMI_Phase3_annual_ssp585_ukesm1-0-ll_files.txt']"
      ]
     },
     "execution_count": 23,
     "metadata": {},
     "output_type": "execute_result"
    }
   ],
   "source": [
    "fns585"
   ]
  },
  {
   "cell_type": "code",
   "execution_count": 24,
   "metadata": {},
   "outputs": [],
   "source": [
    "gfdl126fns=pd.read_csv(fns126[0], header=None)"
   ]
  },
  {
   "cell_type": "code",
   "execution_count": 25,
   "metadata": {},
   "outputs": [
    {
     "data": {
      "text/plain": [
       "0         GGCMI_Phase3_annual_ssp126_gfdl-esm4_acea.nc4\n",
       "1       GGCMI_Phase3_annual_ssp126_gfdl-esm4_crover.nc4\n",
       "2     GGCMI_Phase3_annual_ssp126_gfdl-esm4_cygma1p74...\n",
       "3     GGCMI_Phase3_annual_ssp126_gfdl-esm4_dssat-pyt...\n",
       "4     GGCMI_Phase3_annual_ssp126_gfdl-esm4_epic-iias...\n",
       "5         GGCMI_Phase3_annual_ssp126_gfdl-esm4_isam.nc4\n",
       "6        GGCMI_Phase3_annual_ssp126_gfdl-esm4_ldndc.nc4\n",
       "7        GGCMI_Phase3_annual_ssp126_gfdl-esm4_lpjml.nc4\n",
       "8       GGCMI_Phase3_annual_ssp126_gfdl-esm4_pdssat.nc4\n",
       "9        GGCMI_Phase3_annual_ssp126_gfdl-esm4_pepic.nc4\n",
       "10      GGCMI_Phase3_annual_ssp126_gfdl-esm4_promet.nc4\n",
       "11    GGCMI_Phase3_annual_ssp126_gfdl-esm4_simplace-...\n",
       "Name: 0, dtype: object"
      ]
     },
     "execution_count": 25,
     "metadata": {},
     "output_type": "execute_result"
    }
   ],
   "source": [
    "gfdl126fns[0]"
   ]
  },
  {
   "cell_type": "code",
   "execution_count": 26,
   "metadata": {},
   "outputs": [
    {
     "name": "stdout",
     "output_type": "stream",
     "text": [
      "/media/Data1/Climada/isimip3/nc4/GGCMI_Phase3_annual_ssp126_gfdl-esm4_acea.nc4\n",
      "/media/Data1/Climada/isimip3/nc4/GGCMI_Phase3_annual_ssp126_gfdl-esm4_crover.nc4\n",
      "/media/Data1/Climada/isimip3/nc4/GGCMI_Phase3_annual_ssp126_gfdl-esm4_cygma1p74.nc4\n",
      "/media/Data1/Climada/isimip3/nc4/GGCMI_Phase3_annual_ssp126_gfdl-esm4_dssat-pythia.nc4\n",
      "/media/Data1/Climada/isimip3/nc4/GGCMI_Phase3_annual_ssp126_gfdl-esm4_epic-iiasa.nc4\n",
      "/media/Data1/Climada/isimip3/nc4/GGCMI_Phase3_annual_ssp126_gfdl-esm4_isam.nc4\n",
      "/media/Data1/Climada/isimip3/nc4/GGCMI_Phase3_annual_ssp126_gfdl-esm4_ldndc.nc4\n",
      "/media/Data1/Climada/isimip3/nc4/GGCMI_Phase3_annual_ssp126_gfdl-esm4_lpjml.nc4\n",
      "/media/Data1/Climada/isimip3/nc4/GGCMI_Phase3_annual_ssp126_gfdl-esm4_pdssat.nc4\n",
      "/media/Data1/Climada/isimip3/nc4/GGCMI_Phase3_annual_ssp126_gfdl-esm4_pepic.nc4\n",
      "/media/Data1/Climada/isimip3/nc4/GGCMI_Phase3_annual_ssp126_gfdl-esm4_promet.nc4\n",
      "/media/Data1/Climada/isimip3/nc4/GGCMI_Phase3_annual_ssp126_gfdl-esm4_simplace-lintul5.nc4\n",
      "/media/Data1/Climada/isimip3/nc4/GGCMI_Phase3_annual_ssp126_ipsl-cm6a-lr_acea.nc4\n",
      "/media/Data1/Climada/isimip3/nc4/GGCMI_Phase3_annual_ssp126_ipsl-cm6a-lr_crover.nc4\n",
      "/media/Data1/Climada/isimip3/nc4/GGCMI_Phase3_annual_ssp126_ipsl-cm6a-lr_cygma1p74.nc4\n",
      "/media/Data1/Climada/isimip3/nc4/GGCMI_Phase3_annual_ssp126_ipsl-cm6a-lr_dssat-pythia.nc4\n",
      "/media/Data1/Climada/isimip3/nc4/GGCMI_Phase3_annual_ssp126_ipsl-cm6a-lr_epic-iiasa.nc4\n",
      "/media/Data1/Climada/isimip3/nc4/GGCMI_Phase3_annual_ssp126_ipsl-cm6a-lr_isam.nc4\n",
      "/media/Data1/Climada/isimip3/nc4/GGCMI_Phase3_annual_ssp126_ipsl-cm6a-lr_ldndc.nc4\n",
      "/media/Data1/Climada/isimip3/nc4/GGCMI_Phase3_annual_ssp126_ipsl-cm6a-lr_lpjml.nc4\n",
      "/media/Data1/Climada/isimip3/nc4/GGCMI_Phase3_annual_ssp126_ipsl-cm6a-lr_pdssat.nc4\n",
      "/media/Data1/Climada/isimip3/nc4/GGCMI_Phase3_annual_ssp126_ipsl-cm6a-lr_pepic.nc4\n",
      "/media/Data1/Climada/isimip3/nc4/GGCMI_Phase3_annual_ssp126_ipsl-cm6a-lr_promet.nc4\n",
      "/media/Data1/Climada/isimip3/nc4/GGCMI_Phase3_annual_ssp126_ipsl-cm6a-lr_simplace-lintul5.nc4\n",
      "/media/Data1/Climada/isimip3/nc4/GGCMI_Phase3_annual_ssp126_mpi-esm1-2-hr_acea.nc4\n",
      "/media/Data1/Climada/isimip3/nc4/GGCMI_Phase3_annual_ssp126_mpi-esm1-2-hr_crover.nc4\n",
      "/media/Data1/Climada/isimip3/nc4/GGCMI_Phase3_annual_ssp126_mpi-esm1-2-hr_cygma1p74.nc4\n",
      "/media/Data1/Climada/isimip3/nc4/GGCMI_Phase3_annual_ssp126_mpi-esm1-2-hr_dssat-pythia.nc4\n",
      "/media/Data1/Climada/isimip3/nc4/GGCMI_Phase3_annual_ssp126_mpi-esm1-2-hr_epic-iiasa.nc4\n",
      "/media/Data1/Climada/isimip3/nc4/GGCMI_Phase3_annual_ssp126_mpi-esm1-2-hr_isam.nc4\n",
      "/media/Data1/Climada/isimip3/nc4/GGCMI_Phase3_annual_ssp126_mpi-esm1-2-hr_ldndc.nc4\n",
      "/media/Data1/Climada/isimip3/nc4/GGCMI_Phase3_annual_ssp126_mpi-esm1-2-hr_lpjml.nc4\n",
      "/media/Data1/Climada/isimip3/nc4/GGCMI_Phase3_annual_ssp126_mpi-esm1-2-hr_pdssat.nc4\n",
      "/media/Data1/Climada/isimip3/nc4/GGCMI_Phase3_annual_ssp126_mpi-esm1-2-hr_pepic.nc4\n",
      "/media/Data1/Climada/isimip3/nc4/GGCMI_Phase3_annual_ssp126_mpi-esm1-2-hr_promet.nc4\n",
      "/media/Data1/Climada/isimip3/nc4/GGCMI_Phase3_annual_ssp126_mpi-esm1-2-hr_simplace-lintul5.nc4\n",
      "/media/Data1/Climada/isimip3/nc4/GGCMI_Phase3_annual_ssp126_mri-esm2-0_acea.nc4\n",
      "/media/Data1/Climada/isimip3/nc4/GGCMI_Phase3_annual_ssp126_mri-esm2-0_crover.nc4\n",
      "/media/Data1/Climada/isimip3/nc4/GGCMI_Phase3_annual_ssp126_mri-esm2-0_cygma1p74.nc4\n",
      "/media/Data1/Climada/isimip3/nc4/GGCMI_Phase3_annual_ssp126_mri-esm2-0_dssat-pythia.nc4\n",
      "/media/Data1/Climada/isimip3/nc4/GGCMI_Phase3_annual_ssp126_mri-esm2-0_epic-iiasa.nc4\n",
      "/media/Data1/Climada/isimip3/nc4/GGCMI_Phase3_annual_ssp126_mri-esm2-0_isam.nc4\n",
      "/media/Data1/Climada/isimip3/nc4/GGCMI_Phase3_annual_ssp126_mri-esm2-0_ldndc.nc4\n",
      "/media/Data1/Climada/isimip3/nc4/GGCMI_Phase3_annual_ssp126_mri-esm2-0_lpjml.nc4\n",
      "/media/Data1/Climada/isimip3/nc4/GGCMI_Phase3_annual_ssp126_mri-esm2-0_pdssat.nc4\n",
      "/media/Data1/Climada/isimip3/nc4/GGCMI_Phase3_annual_ssp126_mri-esm2-0_pepic.nc4\n",
      "/media/Data1/Climada/isimip3/nc4/GGCMI_Phase3_annual_ssp126_mri-esm2-0_promet.nc4\n",
      "/media/Data1/Climada/isimip3/nc4/GGCMI_Phase3_annual_ssp126_mri-esm2-0_simplace-lintul5.nc4\n",
      "/media/Data1/Climada/isimip3/nc4/GGCMI_Phase3_annual_ssp126_ukesm1-0-ll_acea.nc4\n",
      "/media/Data1/Climada/isimip3/nc4/GGCMI_Phase3_annual_ssp126_ukesm1-0-ll_crover.nc4\n",
      "/media/Data1/Climada/isimip3/nc4/GGCMI_Phase3_annual_ssp126_ukesm1-0-ll_cygma1p74.nc4\n",
      "/media/Data1/Climada/isimip3/nc4/GGCMI_Phase3_annual_ssp126_ukesm1-0-ll_dssat-pythia.nc4\n",
      "/media/Data1/Climada/isimip3/nc4/GGCMI_Phase3_annual_ssp126_ukesm1-0-ll_epic-iiasa.nc4\n",
      "/media/Data1/Climada/isimip3/nc4/GGCMI_Phase3_annual_ssp126_ukesm1-0-ll_isam.nc4\n",
      "/media/Data1/Climada/isimip3/nc4/GGCMI_Phase3_annual_ssp126_ukesm1-0-ll_ldndc.nc4\n",
      "/media/Data1/Climada/isimip3/nc4/GGCMI_Phase3_annual_ssp126_ukesm1-0-ll_lpjml.nc4\n",
      "/media/Data1/Climada/isimip3/nc4/GGCMI_Phase3_annual_ssp126_ukesm1-0-ll_pdssat.nc4\n",
      "/media/Data1/Climada/isimip3/nc4/GGCMI_Phase3_annual_ssp126_ukesm1-0-ll_pepic.nc4\n",
      "/media/Data1/Climada/isimip3/nc4/GGCMI_Phase3_annual_ssp126_ukesm1-0-ll_promet.nc4\n",
      "/media/Data1/Climada/isimip3/nc4/GGCMI_Phase3_annual_ssp126_ukesm1-0-ll_simplace-lintul5.nc4\n"
     ]
    }
   ],
   "source": [
    "average126_2050s=np.empty((5,12,60,60))\n",
    "average126_2080s=np.empty((5,12,60,60))\n",
    "for j in range(5):  #5 models\n",
    "    fnfns=fns126[j]\n",
    "    fns=pd.read_csv(fnfns, header=None)\n",
    "    for i in range(12):\n",
    "        fn='/media/Data1/Climada/isimip3/nc4/'+fns[0][i]\n",
    "        print(fn)\n",
    "        ds=xr.open_dataset(fn)\n",
    "    #select data in space\n",
    "        cropped_ds0 = ds.sel(lat=slice(max_lat,min_lat), lon=slice(min_lon,max_lon)) \n",
    "        cropped_ds=cropped_ds0['yield change'][0]\n",
    "        #these data are change in % relative to average for the period of 1983 to 2013\n",
    "        #averages1983_2013 = cropped_ds.sel(years=slice(\"1983\", \"2013\")).mean(dim='years')+100\n",
    "        #theoritically the average values for the reference periods are 100s at all grid points\n",
    "        \n",
    "        #note the reference period changed to 1995 to  2014 but the variable name not change for convinience\n",
    "        #because I don't want to affect other parts of the code\n",
    "        averages1996_2015 = cropped_ds.sel(years=slice(\"1995\", \"2014\")).mean(dim='years',skipna=True)+100\n",
    "        averages2040_2069 = cropped_ds.sel(years=slice(\"2040\", \"2069\")).mean(dim='years',skipna=True)+100\n",
    "        averages2070_2099 = cropped_ds.sel(years=slice(\"2070\", \"2099\")).mean(dim='years',skipna=True)+100\n",
    "        #We convert the data as change relative to the period from 1996 to 2015 for consistent to our paper's reference\n",
    "        averages2050s_ssp126=(averages2040_2069/averages1996_2015-1)\n",
    "        averages2080s_ssp126=(averages2070_2099/averages1996_2015-1)\n",
    "        average126_2050s[j,i,:,:]=averages2050s_ssp126*average_all  \n",
    "        average126_2080s[j,i,:,:]=averages2080s_ssp126*average_all\n",
    "    "
   ]
  },
  {
   "cell_type": "code",
   "execution_count": 27,
   "metadata": {},
   "outputs": [
    {
     "name": "stdout",
     "output_type": "stream",
     "text": [
      "/media/Data1/Climada/isimip3/nc4/GGCMI_Phase3_annual_ssp585_gfdl-esm4_acea.nc4\n",
      "/media/Data1/Climada/isimip3/nc4/GGCMI_Phase3_annual_ssp585_gfdl-esm4_crover.nc4\n",
      "/media/Data1/Climada/isimip3/nc4/GGCMI_Phase3_annual_ssp585_gfdl-esm4_cygma1p74.nc4\n",
      "/media/Data1/Climada/isimip3/nc4/GGCMI_Phase3_annual_ssp585_gfdl-esm4_dssat-pythia.nc4\n",
      "/media/Data1/Climada/isimip3/nc4/GGCMI_Phase3_annual_ssp585_gfdl-esm4_epic-iiasa.nc4\n",
      "/media/Data1/Climada/isimip3/nc4/GGCMI_Phase3_annual_ssp585_gfdl-esm4_isam.nc4\n",
      "/media/Data1/Climada/isimip3/nc4/GGCMI_Phase3_annual_ssp585_gfdl-esm4_ldndc.nc4\n",
      "/media/Data1/Climada/isimip3/nc4/GGCMI_Phase3_annual_ssp585_gfdl-esm4_lpjml.nc4\n",
      "/media/Data1/Climada/isimip3/nc4/GGCMI_Phase3_annual_ssp585_gfdl-esm4_pdssat.nc4\n",
      "/media/Data1/Climada/isimip3/nc4/GGCMI_Phase3_annual_ssp585_gfdl-esm4_pepic.nc4\n",
      "/media/Data1/Climada/isimip3/nc4/GGCMI_Phase3_annual_ssp585_gfdl-esm4_promet.nc4\n",
      "/media/Data1/Climada/isimip3/nc4/GGCMI_Phase3_annual_ssp585_gfdl-esm4_simplace-lintul5.nc4\n",
      "/media/Data1/Climada/isimip3/nc4/GGCMI_Phase3_annual_ssp585_ipsl-cm6a-lr_acea.nc4\n",
      "/media/Data1/Climada/isimip3/nc4/GGCMI_Phase3_annual_ssp585_ipsl-cm6a-lr_crover.nc4\n",
      "/media/Data1/Climada/isimip3/nc4/GGCMI_Phase3_annual_ssp585_ipsl-cm6a-lr_cygma1p74.nc4\n",
      "/media/Data1/Climada/isimip3/nc4/GGCMI_Phase3_annual_ssp585_ipsl-cm6a-lr_dssat-pythia.nc4\n",
      "/media/Data1/Climada/isimip3/nc4/GGCMI_Phase3_annual_ssp585_ipsl-cm6a-lr_epic-iiasa.nc4\n",
      "/media/Data1/Climada/isimip3/nc4/GGCMI_Phase3_annual_ssp585_ipsl-cm6a-lr_isam.nc4\n",
      "/media/Data1/Climada/isimip3/nc4/GGCMI_Phase3_annual_ssp585_ipsl-cm6a-lr_ldndc.nc4\n",
      "/media/Data1/Climada/isimip3/nc4/GGCMI_Phase3_annual_ssp585_ipsl-cm6a-lr_lpjml.nc4\n",
      "/media/Data1/Climada/isimip3/nc4/GGCMI_Phase3_annual_ssp585_ipsl-cm6a-lr_pdssat.nc4\n",
      "/media/Data1/Climada/isimip3/nc4/GGCMI_Phase3_annual_ssp585_ipsl-cm6a-lr_pepic.nc4\n",
      "/media/Data1/Climada/isimip3/nc4/GGCMI_Phase3_annual_ssp585_ipsl-cm6a-lr_promet.nc4\n",
      "/media/Data1/Climada/isimip3/nc4/GGCMI_Phase3_annual_ssp585_ipsl-cm6a-lr_simplace-lintul5.nc4\n",
      "/media/Data1/Climada/isimip3/nc4/GGCMI_Phase3_annual_ssp585_mpi-esm1-2-hr_acea.nc4\n",
      "/media/Data1/Climada/isimip3/nc4/GGCMI_Phase3_annual_ssp585_mpi-esm1-2-hr_crover.nc4\n",
      "/media/Data1/Climada/isimip3/nc4/GGCMI_Phase3_annual_ssp585_mpi-esm1-2-hr_cygma1p74.nc4\n",
      "/media/Data1/Climada/isimip3/nc4/GGCMI_Phase3_annual_ssp585_mpi-esm1-2-hr_dssat-pythia.nc4\n",
      "/media/Data1/Climada/isimip3/nc4/GGCMI_Phase3_annual_ssp585_mpi-esm1-2-hr_epic-iiasa.nc4\n",
      "/media/Data1/Climada/isimip3/nc4/GGCMI_Phase3_annual_ssp585_mpi-esm1-2-hr_isam.nc4\n",
      "/media/Data1/Climada/isimip3/nc4/GGCMI_Phase3_annual_ssp585_mpi-esm1-2-hr_ldndc.nc4\n",
      "/media/Data1/Climada/isimip3/nc4/GGCMI_Phase3_annual_ssp585_mpi-esm1-2-hr_lpjml.nc4\n",
      "/media/Data1/Climada/isimip3/nc4/GGCMI_Phase3_annual_ssp585_mpi-esm1-2-hr_pdssat.nc4\n",
      "/media/Data1/Climada/isimip3/nc4/GGCMI_Phase3_annual_ssp585_mpi-esm1-2-hr_pepic.nc4\n",
      "/media/Data1/Climada/isimip3/nc4/GGCMI_Phase3_annual_ssp585_mpi-esm1-2-hr_promet.nc4\n",
      "/media/Data1/Climada/isimip3/nc4/GGCMI_Phase3_annual_ssp585_mpi-esm1-2-hr_simplace-lintul5.nc4\n",
      "/media/Data1/Climada/isimip3/nc4/GGCMI_Phase3_annual_ssp585_mri-esm2-0_acea.nc4\n",
      "/media/Data1/Climada/isimip3/nc4/GGCMI_Phase3_annual_ssp585_mri-esm2-0_crover.nc4\n",
      "/media/Data1/Climada/isimip3/nc4/GGCMI_Phase3_annual_ssp585_mri-esm2-0_cygma1p74.nc4\n",
      "/media/Data1/Climada/isimip3/nc4/GGCMI_Phase3_annual_ssp585_mri-esm2-0_dssat-pythia.nc4\n",
      "/media/Data1/Climada/isimip3/nc4/GGCMI_Phase3_annual_ssp585_mri-esm2-0_epic-iiasa.nc4\n",
      "/media/Data1/Climada/isimip3/nc4/GGCMI_Phase3_annual_ssp585_mri-esm2-0_isam.nc4\n",
      "/media/Data1/Climada/isimip3/nc4/GGCMI_Phase3_annual_ssp585_mri-esm2-0_ldndc.nc4\n",
      "/media/Data1/Climada/isimip3/nc4/GGCMI_Phase3_annual_ssp585_mri-esm2-0_lpjml.nc4\n",
      "/media/Data1/Climada/isimip3/nc4/GGCMI_Phase3_annual_ssp585_mri-esm2-0_pdssat.nc4\n",
      "/media/Data1/Climada/isimip3/nc4/GGCMI_Phase3_annual_ssp585_mri-esm2-0_pepic.nc4\n",
      "/media/Data1/Climada/isimip3/nc4/GGCMI_Phase3_annual_ssp585_mri-esm2-0_promet.nc4\n",
      "/media/Data1/Climada/isimip3/nc4/GGCMI_Phase3_annual_ssp585_mri-esm2-0_simplace-lintul5.nc4\n",
      "/media/Data1/Climada/isimip3/nc4/GGCMI_Phase3_annual_ssp585_ukesm1-0-ll_acea.nc4\n",
      "/media/Data1/Climada/isimip3/nc4/GGCMI_Phase3_annual_ssp585_ukesm1-0-ll_crover.nc4\n",
      "/media/Data1/Climada/isimip3/nc4/GGCMI_Phase3_annual_ssp585_ukesm1-0-ll_cygma1p74.nc4\n",
      "/media/Data1/Climada/isimip3/nc4/GGCMI_Phase3_annual_ssp585_ukesm1-0-ll_dssat-pythia.nc4\n",
      "/media/Data1/Climada/isimip3/nc4/GGCMI_Phase3_annual_ssp585_ukesm1-0-ll_epic-iiasa.nc4\n",
      "/media/Data1/Climada/isimip3/nc4/GGCMI_Phase3_annual_ssp585_ukesm1-0-ll_isam.nc4\n",
      "/media/Data1/Climada/isimip3/nc4/GGCMI_Phase3_annual_ssp585_ukesm1-0-ll_ldndc.nc4\n",
      "/media/Data1/Climada/isimip3/nc4/GGCMI_Phase3_annual_ssp585_ukesm1-0-ll_lpjml.nc4\n",
      "/media/Data1/Climada/isimip3/nc4/GGCMI_Phase3_annual_ssp585_ukesm1-0-ll_pdssat.nc4\n",
      "/media/Data1/Climada/isimip3/nc4/GGCMI_Phase3_annual_ssp585_ukesm1-0-ll_pepic.nc4\n",
      "/media/Data1/Climada/isimip3/nc4/GGCMI_Phase3_annual_ssp585_ukesm1-0-ll_promet.nc4\n",
      "/media/Data1/Climada/isimip3/nc4/GGCMI_Phase3_annual_ssp585_ukesm1-0-ll_simplace-lintul5.nc4\n"
     ]
    }
   ],
   "source": [
    "average585_2050s=np.empty((5,12,60,60))\n",
    "average585_2080s=np.empty((5,12,60,60))\n",
    "for j in range(5):  #5 models\n",
    "    fnfns=fns585[j]\n",
    "    fns=pd.read_csv(fnfns, header=None)\n",
    "    for i in range(12):\n",
    "        fn='/media/Data1/Climada/isimip3/nc4/'+fns[0][i]\n",
    "        print(fn)\n",
    "        ds=xr.open_dataset(fn)\n",
    "    #select data in space\n",
    "        cropped_ds0 = ds.sel(lat=slice(max_lat,min_lat), lon=slice(min_lon,max_lon)) \n",
    "        cropped_ds=cropped_ds0['yield change'][0]\n",
    "        #these data are change in % relative to average for the period of 1983 to 2013\n",
    "        averages1983_2013 = cropped_ds.sel(years=slice(\"1983\", \"2013\")).mean(dim='years',skipna=True)+100\n",
    "        #theoritically the average values for the reference periods are 100s at all grid points\n",
    "        \n",
    "        \n",
    "        # note the reference period has changed to 1995-2014 but variable name not changed for convinience\n",
    "        averages1996_2015 = cropped_ds.sel(years=slice(\"1995\", \"2014\")).mean(dim='years',skipna=True)+100\n",
    "        \n",
    "        \n",
    "        averages2040_2069 = cropped_ds.sel(years=slice(\"2040\", \"2069\")).mean(dim='years',skipna=True)+100\n",
    "        averages2070_2099 = cropped_ds.sel(years=slice(\"2070\", \"2099\")).mean(dim='years',skipna=True)+100\n",
    "        #We convert the data as change relative to the period from 1996 to 2015 for consistent to our paper's reference\n",
    "        averages2050s_ssp585=(averages2040_2069/averages1996_2015-1)\n",
    "        averages2080s_ssp585=(averages2070_2099/averages1996_2015-1)\n",
    "        average585_2050s[j,i,:,:]=np.array(averages2050s_ssp585)*average_all\n",
    "        average585_2080s[j,i,:,:]=np.array(averages2080s_ssp585)*average_all"
   ]
  },
  {
   "cell_type": "code",
   "execution_count": 28,
   "metadata": {},
   "outputs": [],
   "source": [
    "mm=np.nanmean(np.nanmean(average126_2080s,axis=0),axis=0)\n"
   ]
  },
  {
   "cell_type": "code",
   "execution_count": 29,
   "metadata": {},
   "outputs": [
    {
     "data": {
      "text/plain": [
       "(5, 12, 60, 60)"
      ]
     },
     "execution_count": 29,
     "metadata": {},
     "output_type": "execute_result"
    }
   ],
   "source": [
    "average126_2080s.shape"
   ]
  },
  {
   "cell_type": "code",
   "execution_count": 31,
   "metadata": {},
   "outputs": [
    {
     "data": {
      "text/plain": [
       "68972907.392856"
      ]
     },
     "execution_count": 31,
     "metadata": {},
     "output_type": "execute_result"
    }
   ],
   "source": [
    "#here all value are set to 1.0\n",
    "prod_1996_2015=average_all\n",
    "ref_prod=np.nansum(np.nansum(prod_1996_2015[:,24:],0),0)\n",
    "\n",
    "ref_prod"
   ]
  },
  {
   "cell_type": "code",
   "execution_count": 32,
   "metadata": {},
   "outputs": [],
   "source": [
    "sum126_2050s=np.nansum(np.nansum(average126_2050s[:,:,:,24:],2),2).flatten()\n",
    "sum126_2080s=np.nansum(np.nansum(average126_2080s[:,:,:,24:],2),2).flatten()\n",
    "sum585_2050s=np.nansum(np.nansum(average585_2050s[:,:,:,24:],2),2).flatten()\n",
    "sum585_2080s=np.nansum(np.nansum(average585_2080s[:,:,:,24:],2),2).flatten()"
   ]
  },
  {
   "cell_type": "code",
   "execution_count": 33,
   "metadata": {},
   "outputs": [],
   "source": [
    "pp=[np.nanmean(sum126_2050s),np.nanmean(sum126_2080s),np.nanmean(sum585_2050s),np.nanmean(sum585_2080s)]/ref_prod"
   ]
  },
  {
   "cell_type": "code",
   "execution_count": 34,
   "metadata": {},
   "outputs": [
    {
     "data": {
      "text/plain": [
       "array([ -4.59673423,  -5.40300926, -11.05961435, -22.93551927])"
      ]
     },
     "execution_count": 34,
     "metadata": {},
     "output_type": "execute_result"
    }
   ],
   "source": [
    "pp*100"
   ]
  },
  {
   "cell_type": "code",
   "execution_count": 35,
   "metadata": {},
   "outputs": [
    {
     "data": {
      "text/plain": [
       "array([ -3170501.24280974,  -3726612.57539171,  -7628137.56283538,\n",
       "       -15819294.46337523])"
      ]
     },
     "execution_count": 35,
     "metadata": {},
     "output_type": "execute_result"
    }
   ],
   "source": [
    "pp*ref_prod"
   ]
  },
  {
   "cell_type": "code",
   "execution_count": 36,
   "metadata": {},
   "outputs": [
    {
     "data": {
      "text/plain": [
       "(60,)"
      ]
     },
     "execution_count": 36,
     "metadata": {},
     "output_type": "execute_result"
    }
   ],
   "source": [
    "sum126_2050s.shape"
   ]
  },
  {
   "cell_type": "code",
   "execution_count": 37,
   "metadata": {},
   "outputs": [
    {
     "data": {
      "text/plain": [
       "(60, 60)"
      ]
     },
     "execution_count": 37,
     "metadata": {},
     "output_type": "execute_result"
    }
   ],
   "source": [
    "averages1996_2015.shape"
   ]
  },
  {
   "cell_type": "code",
   "execution_count": 38,
   "metadata": {},
   "outputs": [
    {
     "data": {
      "text/plain": [
       "(60, 60)"
      ]
     },
     "execution_count": 38,
     "metadata": {},
     "output_type": "execute_result"
    }
   ],
   "source": [
    "average_all.shape"
   ]
  },
  {
   "cell_type": "code",
   "execution_count": 39,
   "metadata": {},
   "outputs": [
    {
     "data": {
      "image/png": "[encoded data removed]",
      "text/plain": [
       "<Figure size 720x720 with 1 Axes>"
      ]
     },
     "metadata": {
      "needs_background": "light"
     },
     "output_type": "display_data"
    }
   ],
   "source": [
    "fig = plt.figure(figsize=(10,10))\n",
    "\n",
    "xx=np.array(np.reshape(np.array(range(60)),newshape=(60,1)))\n",
    "yy=np.array(np.reshape(np.sort(sum126_2050s)/ref_prod*100,newshape=(60,1)))\n",
    "plt.plot(xx,yy,'ok',label=' SSP126-2050s')\n",
    "plt.plot(xx,np.sort(sum126_2080s)/ref_prod*100,'db',label=' SSP126-2080s')\n",
    "plt.plot(xx,np.sort(sum585_2050s)/ref_prod*100,'+y',label=' SSP585-2050s')\n",
    "plt.plot(xx,np.sort(sum585_2080s)/ref_prod*100,'xr',label=' SSP585-2080s')\n",
    "plt.legend(numpoints=3)\n",
    "plt.legend(loc=\"lower right\",fontsize=20)\n",
    "plt.xlabel('Model',fontsize=20)\n",
    "plt.ylabel('Production Change (%)',fontsize=20)\n",
    "plt.grid(color = 'grey', linestyle = '--', linewidth = 0.3)\n",
    "fig.savefig('Figure_10_SSP126_SSP585_ProductionChange_model.png',dpi=150)"
   ]
  }
 ],
 "metadata": {
  "kernelspec": {
   "display_name": "Python 3 (ipykernel)",
   "language": "python",
   "name": "python3"
  },
  "language_info": {
   "codemirror_mode": {
    "name": "ipython",
    "version": 3
   },
   "file_extension": ".py",
   "mimetype": "text/x-python",
   "name": "python",
   "nbconvert_exporter": "python",
   "pygments_lexer": "ipython3",
   "version": "3.8.13"
  }
 },
 "nbformat": 4,
 "nbformat_minor": 2
}
