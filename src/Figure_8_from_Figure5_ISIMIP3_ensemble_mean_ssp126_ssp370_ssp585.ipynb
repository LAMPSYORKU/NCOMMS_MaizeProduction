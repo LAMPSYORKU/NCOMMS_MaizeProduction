{
 "cells": [
  {
   "cell_type": "markdown",
   "metadata": {},
   "source": [
    "# This code generates figure 8"
   ]
  },
  {
   "cell_type": "code",
   "execution_count": 1,
   "metadata": {},
   "outputs": [
    {
     "name": "stdout",
     "output_type": "stream",
     "text": [
      "Warning: ecCodes 2.21.0 or higher is recommended. You are running version 2.12.0\n"
     ]
    }
   ],
   "source": [
    "# Ignore warnings\n",
    "import sys\n",
    "import warnings\n",
    "if not sys.warnoptions:\n",
    "    warnings.simplefilter('ignore')\n",
    "\n",
    "#Process data    \n",
    "import numpy as np\n",
    "import xarray as xr\n",
    "\n",
    "#Display data \n",
    "import cartopy\n",
    "import cartopy.crs as ccrs\n",
    "from cartopy.mpl.geoaxes import GeoAxes\n",
    "from cartopy.vector_transform import vector_scalar_to_grid\n",
    "from matplotlib.axes import Axes\n",
    "import cartopy.feature as cfeature\n",
    "from cartopy import config\n",
    "from cartopy.mpl.ticker import LongitudeFormatter, LatitudeFormatter\n",
    "from mpl_toolkits.axes_grid1 import AxesGrid\n",
    "import matplotlib.image as image\n",
    "import matplotlib.pyplot as plt\n",
    "\n",
    "#Writing data files\n",
    "import pandas as pd"
   ]
  },
  {
   "cell_type": "code",
   "execution_count": 2,
   "metadata": {},
   "outputs": [],
   "source": [
    "min_lon = -100 \n",
    "min_lat = 35\n",
    "max_lon = -70\n",
    "max_lat = 65"
   ]
  },
  {
   "cell_type": "code",
   "execution_count": 3,
   "metadata": {},
   "outputs": [],
   "source": [
    "fn1 = '/media/Data1/Climada/isimip3/nc4/GGCMI_Phase3_annual_Maize_ssp126_ensemble_mean.nc4'\n",
    "# fn1='/media/Data1/Climada/isimip3/nc4/GGCMI_Phase3_annual_Maize_ssp126_gfdl-esm4_2015co2_ensemble_mean.nc4'\n",
    "# fn1='/media/Data1/Climada/isimip3/nc4/GGCMI_Phase3_annual_ssp126_gfdl-esm4_cygma1p74.nc4'\n",
    "#ds=xr.open_dataset(fn1,decode_times=False)\n",
    "ds=xr.open_dataset(fn1)\n",
    "cropped_ds = ds.sel(lat=slice(max_lat,min_lat), lon=slice(min_lon,max_lon))\n",
    "\n",
    "#these data are change in % relative to average for the period of 1983 to 2013\n",
    "averages1983_2013 = cropped_ds.sel(years=slice(\"1983\", \"2013\")).mean(dim='years')+100\n",
    "#theoritically the average values for the reference periods are 100s at all grid points\n",
    "averages1996_2015 = cropped_ds.sel(years=slice(\"1995\", \"2014\")).mean(dim='years')+100\n",
    "averages2040_2069 = cropped_ds.sel(years=slice(\"2040\", \"2069\")).mean(dim='years')+100\n",
    "averages2070_2099 = cropped_ds.sel(years=slice(\"2070\", \"2099\")).mean(dim='years')+100\n",
    "#We convert the data as change relative to the period from 1996 to 2015 for consistent to our paper's reference\n",
    "averages2050s_ssp126=(averages2040_2069/averages1996_2015-1)*100\n",
    "averages2080s_ssp126=(averages2070_2099/averages1996_2015-1)*100"
   ]
  },
  {
   "cell_type": "code",
   "execution_count": 4,
   "metadata": {},
   "outputs": [],
   "source": [
    "fn1 = '/media/Data1/Climada/isimip3/nc4/GGCMI_Phase3_annual_Maize_ssp370_ensemble_mean.nc4'\n",
    "#ds=xr.open_dataset(fn1,decode_times=False)\n",
    "ds=xr.open_dataset(fn1)\n",
    "#select data in space\n",
    "cropped_ds = ds.sel(lat=slice(max_lat,min_lat), lon=slice(min_lon,max_lon))\n",
    "#select and  average data in time\n",
    "#these data are change in % relative to average for the period of 1983 to 2013\n",
    "averages1983_2013 = cropped_ds.sel(years=slice(\"1983\", \"2013\")).mean(dim='years')+100\n",
    "#theoritically the average values for the reference periods are 100s at all grid points\n",
    "averages1996_2015 = cropped_ds.sel(years=slice(\"1995\", \"2014\")).mean(dim='years')+100\n",
    "averages2040_2069 = cropped_ds.sel(years=slice(\"2040\", \"2069\")).mean(dim='years')+100\n",
    "averages2070_2099 = cropped_ds.sel(years=slice(\"2070\", \"2099\")).mean(dim='years')+100\n",
    "averages2050s_ssp370=(averages2040_2069/averages1996_2015-1)*100\n",
    "averages2080s_ssp370=(averages2070_2099/averages1996_2015-1)*100"
   ]
  },
  {
   "cell_type": "code",
   "execution_count": 5,
   "metadata": {},
   "outputs": [],
   "source": [
    "fn1 = '/media/Data1/Climada/isimip3/nc4/GGCMI_Phase3_annual_Maize_ssp585_ensemble_mean.nc4'\n",
    "#ds=xr.open_dataset(fn1,decode_times=False)\n",
    "ds=xr.open_dataset(fn1)\n",
    "cropped_ds = ds.sel(lat=slice(max_lat,min_lat), lon=slice(min_lon,max_lon))\n",
    "#these data are change in % relative to average for the period of 1983 to 2013\n",
    "averages1983_2013 = cropped_ds.sel(years=slice(\"1983\", \"2013\")).mean(dim='years')+100\n",
    "#theoritically the average values for the reference periods are 100s at all grid points\n",
    "averages1996_2015 = cropped_ds.sel(years=slice(\"1995\", \"2014\")).mean(dim='years')+100\n",
    "averages2040_2069 = cropped_ds.sel(years=slice(\"2040\", \"2069\")).mean(dim='years')+100\n",
    "averages2070_2099 = cropped_ds.sel(years=slice(\"2070\", \"2099\")).mean(dim='years')+100\n",
    "averages2050s_ssp585=(averages2040_2069/averages1996_2015-1)*100\n",
    "averages2080s_ssp585=(averages2070_2099/averages1996_2015-1)*100"
   ]
  },
  {
   "cell_type": "code",
   "execution_count": 6,
   "metadata": {},
   "outputs": [],
   "source": [
    "#cropped_ds = ds.sel(lat=slice(max_lat,min_lat), lon=slice(min_lon,max_lon)).sel(crop=slice('1','1'))\n",
    "#note: slice(min_lat,max_lat) or slice(max_lat,min_lat) depends on how your data is saved in the file. If data is saved from north to south, you should use slice(max_lat,min_lat)"
   ]
  },
  {
   "cell_type": "code",
   "execution_count": 7,
   "metadata": {},
   "outputs": [
    {
     "data": {
      "text/plain": [
       "[<xarray.Dataset>\n",
       " Dimensions:       ()\n",
       " Data variables:\n",
       "     yield change  float64 99.48,\n",
       " <xarray.Dataset>\n",
       " Dimensions:       ()\n",
       " Data variables:\n",
       "     yield change  float64 100.1]"
      ]
     },
     "execution_count": 7,
     "metadata": {},
     "output_type": "execute_result"
    }
   ],
   "source": [
    "[averages1983_2013.squeeze().min(),averages1983_2013.squeeze().max()]"
   ]
  },
  {
   "cell_type": "code",
   "execution_count": 8,
   "metadata": {},
   "outputs": [],
   "source": [
    "provinces= ['Ontario', 'Quebec','Manitoba','Wisconsin','Vermont','Nebraska','New York','Kansas','Illinois',\n",
    "            'Delaware','Connecticut','Indiana','Missouri','Michigan','New Jersey','Kentucky','Minnesota',\n",
    "            'Ohio','Iowa','Pennsylvania','Maryland','Virginia','West Virginia','North Dakota','South Dakota','Nunavut']\n",
    "provinces1=['ON','QC','MB','WI','VT','NE','NY','KS','IL','DE','CT','IN','MO','MI','NJ','KY','MN','OH','IA','PA','MD','VA','WV','ND','SD','NU']\n",
    "Latitudes= [50,53,56.4,44.5,44,41.5,43,38.5,40,39,41.6,40.3,38.6,44.2,39.8,37.8,46.4,\n",
    "            40.4,42,41.2,39,38,39,47.7,44.5,62]\n",
    "Longitudes=[-85,-76,-98.7,-89.5,-72,-100,-75,-98,-89,-73.5,-72.7,-86,-92.6,-84.5,-74.9,-84.3,-94.6,\n",
    "            -83,-93.6,-77.2,-76.6,-78,-80.5,-99,-99,-98]"
   ]
  },
  {
   "cell_type": "code",
   "execution_count": null,
   "metadata": {},
   "outputs": [],
   "source": [
    "mask60X60=np.full((60, 60), np.nan)  #X, Y\n",
    "lats = averages2050s_ssp126.coords['lat'][:]\n",
    "lons = averages2050s_ssp126.coords['lon'][:]\n",
    "X,Y = np.meshgrid(lons,lats)\n",
    "projection = ccrs.PlateCarree()\n",
    "provinc_bodr = cartopy.feature.NaturalEarthFeature(category='cultural',\n",
    "    name='admin_1_states_provinces_lines', scale='50m', facecolor='none', edgecolor='k')\n",
    "axes_class = (GeoAxes,\n",
    "              dict(map_projection=projection))\n",
    "# lons, lats = np.meshgrid(lons, lats)\n",
    "title_text=[\"Refereance\", \"2050s\", \"2080s\"]\n",
    "fig = plt.figure(figsize=(15,15))\n",
    "axgr = AxesGrid(fig, 111, axes_class=axes_class,\n",
    "                nrows_ncols=(2, 2),\n",
    "                axes_pad=0.6,\n",
    "                cbar_location='right',\n",
    "                cbar_mode='single',\n",
    "                cbar_pad=0.2,\n",
    "                cbar_size='3%',\n",
    "                label_mode='')  # note the empty labe\n",
    "for i, ax in enumerate(axgr):\n",
    "#*************************************************************\n",
    "    if i==0:\n",
    "        data=averages2050s_ssp126['yield change'].squeeze()\n",
    "        mask60X60=np.where(np.abs(data)>=0,1,data)\n",
    "\n",
    "        subtitle=\"(a) SSP126_2050s (%)\"\n",
    "    if i==1:\n",
    "        data=averages2080s_ssp126['yield change'].squeeze()\n",
    "        subtitle=\"(b) SSP126_2080s (%)\"        \n",
    "#     if i==2:\n",
    "#         data=averages2050s_ssp370['yield change'].squeeze()\n",
    "#         subtitle=\"(c) SSP370_2050s (%)\"        \n",
    "#     if i==3:\n",
    "#         data=averages2080s_ssp370['yield change'].squeeze()\n",
    "#         subtitle=\"(d) SSP370_2080s (%)\"        \n",
    "    if i==2:\n",
    "        data=averages2050s_ssp585['yield change'].squeeze()\n",
    "        subtitle=\"(c) SSP585_2050s (%)\"        \n",
    "    if i==3:\n",
    "        data=averages2080s_ssp585['yield change'].squeeze()\n",
    "        subtitle=\"(d) SSP585_2080s (%)\"                        \n",
    "#add ocean, coastline,borders,lakes,rivers,provinc_bodr\n",
    "    ax.add_feature(cfeature.OCEAN)\n",
    "    ax.add_feature(cfeature.COASTLINE,linewidth=0.3)\n",
    "    ax.add_feature(cfeature.BORDERS, linestyle='-', alpha=0.5)\n",
    "    ax.add_feature(cfeature.LAKES, alpha=0.5)\n",
    "    ax.add_feature(cfeature.RIVERS)\n",
    "    ax.add_feature(provinc_bodr, linestyle='-', linewidth=1, edgecolor=\"k\", zorder=10, alpha=0.5)\n",
    "    ax.set_title(subtitle)\n",
    "    ax.set_xlim([-100,-70])\n",
    "    ax.set_ylim([35,53])\n",
    "    ax.set_xticks(np.linspace(-100, -70, 5), crs=projection)\n",
    "    ax.set_yticks(np.linspace(35, 53, 10), crs=projection)\n",
    "    lon_formatter = LongitudeFormatter(zero_direction_label=True)\n",
    "    lat_formatter = LatitudeFormatter()\n",
    "    ax.xaxis.set_major_formatter(lon_formatter)\n",
    "    ax.yaxis.set_major_formatter(lat_formatter)\n",
    "    \n",
    "#     p = ax.contourf(lons, lats, data,50,\n",
    "#                         transform=projection,\n",
    "#                         cmap='BrBG')\n",
    "    \n",
    "#     l = ax.contour(lons, lats, data,25,colors=['black'], linewidth=0.3,\n",
    "#                         transform=ccrs.PlateCarree())\n",
    "    for iprov in range(26):\n",
    "        if Longitudes[iprov]<-80 and Latitudes[iprov]<47:\n",
    "            ax.text(Longitudes[iprov],Latitudes[iprov],provinces1[iprov],fontsize=18)\n",
    "#     p = ax.pcolormesh(X, Y, data,\n",
    "#                       vmin=-300,\n",
    "#                       vmax=300,\n",
    "#                       transform=projection,\n",
    "#                       cmap='Reds')\n",
    "    p = ax.pcolormesh(X, Y, data,\n",
    "                      transform=projection,\n",
    "                      vmin=-50,\n",
    "                      vmax=50,\n",
    "                      cmap='RdYlGn')    \n",
    "#     ax.clabel(\n",
    "#         l,  # Typically best results when labelling line contours.\n",
    "#         colors=['black'],\n",
    "#         manual=False,  # Automatic placement vs manual placement.\n",
    "#         inline=True,  # Cut the line where the label will be placed.\n",
    "#         fmt=' {:.0f} '.format,  # Labes as integers, with some extra space.\n",
    "#     )\n",
    "axgr.cbar_axes[0].colorbar(p)\n",
    "plt.tight_layout()\n",
    "plt.show()\n",
    "fig.savefig('Figure_8_SSP126_SSP585_yieldchange_2050s2080s_relative_to1995-2014_20Years.png',dpi=150)"
   ]
  },
  {
   "cell_type": "markdown",
   "metadata": {},
   "source": [
    "##### Figure.Geographic patterns in crop productivity for the 21st century for maize in GLR under SSP126 and SSP585. The values are calcuated as the change in ensemble mean of all climate-crop model combinations (5 GCMs X 12 GGCMs) relative to the reference period 1995-2014. "
   ]
  }
 ],
 "metadata": {
  "kernelspec": {
   "display_name": "Python 3 (ipykernel)",
   "language": "python",
   "name": "python3"
  },
  "language_info": {
   "codemirror_mode": {
    "name": "ipython",
    "version": 3
   },
   "file_extension": ".py",
   "mimetype": "text/x-python",
   "name": "python",
   "nbconvert_exporter": "python",
   "pygments_lexer": "ipython3",
   "version": "3.8.13"
  }
 },
 "nbformat": 4,
 "nbformat_minor": 2
}
